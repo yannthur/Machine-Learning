{
 "cells": [
  {
   "cell_type": "markdown",
   "id": "2a3a1bfd",
   "metadata": {},
   "source": [
    "# Preprocessing"
   ]
  },
  {
   "cell_type": "code",
   "execution_count": 1,
   "id": "fe206c47",
   "metadata": {},
   "outputs": [],
   "source": [
    "# importation des librairies\n",
    "import pandas as pd\n",
    "import numpy as np\n",
    "import seaborn as sns\n",
    "import matplotlib.pyplot as plt"
   ]
  },
  {
   "cell_type": "code",
   "execution_count": 2,
   "id": "49d37499",
   "metadata": {},
   "outputs": [
    {
     "data": {
      "application/vnd.microsoft.datawrangler.viewer.v0+json": {
       "columns": [
        {
         "name": "index",
         "rawType": "int64",
         "type": "integer"
        },
        {
         "name": "age",
         "rawType": "float64",
         "type": "float"
        },
        {
         "name": "sex",
         "rawType": "object",
         "type": "string"
        },
        {
         "name": "bmi",
         "rawType": "float64",
         "type": "float"
        },
        {
         "name": "children",
         "rawType": "float64",
         "type": "float"
        },
        {
         "name": "smoker",
         "rawType": "object",
         "type": "string"
        },
        {
         "name": "region",
         "rawType": "object",
         "type": "string"
        },
        {
         "name": "charges",
         "rawType": "float64",
         "type": "float"
        }
       ],
       "conversionMethod": "pd.DataFrame",
       "ref": "21a4f816-63dd-46dd-9219-d90bf3516366",
       "rows": [
        [
         "0",
         "19.0",
         "female",
         "27.9",
         "0.0",
         "yes",
         "southwest",
         "16884.924"
        ],
        [
         "1",
         "18.0",
         "male",
         "33.77",
         "1.0",
         "no",
         "southeast",
         "1725.5523"
        ],
        [
         "2",
         "28.0",
         "male",
         "33.0",
         "3.0",
         "no",
         "southeast",
         "4449.462"
        ],
        [
         "3",
         "33.0",
         "male",
         "22.705",
         "0.0",
         "no",
         "northwest",
         "21984.47061"
        ],
        [
         "4",
         "32.0",
         "male",
         "28.88",
         "0.0",
         "no",
         "northwest",
         "3866.8552"
        ]
       ],
       "shape": {
        "columns": 7,
        "rows": 5
       }
      },
      "text/html": [
       "<div>\n",
       "<style scoped>\n",
       "    .dataframe tbody tr th:only-of-type {\n",
       "        vertical-align: middle;\n",
       "    }\n",
       "\n",
       "    .dataframe tbody tr th {\n",
       "        vertical-align: top;\n",
       "    }\n",
       "\n",
       "    .dataframe thead th {\n",
       "        text-align: right;\n",
       "    }\n",
       "</style>\n",
       "<table border=\"1\" class=\"dataframe\">\n",
       "  <thead>\n",
       "    <tr style=\"text-align: right;\">\n",
       "      <th></th>\n",
       "      <th>age</th>\n",
       "      <th>sex</th>\n",
       "      <th>bmi</th>\n",
       "      <th>children</th>\n",
       "      <th>smoker</th>\n",
       "      <th>region</th>\n",
       "      <th>charges</th>\n",
       "    </tr>\n",
       "  </thead>\n",
       "  <tbody>\n",
       "    <tr>\n",
       "      <th>0</th>\n",
       "      <td>19.0</td>\n",
       "      <td>female</td>\n",
       "      <td>27.900</td>\n",
       "      <td>0.0</td>\n",
       "      <td>yes</td>\n",
       "      <td>southwest</td>\n",
       "      <td>16884.92400</td>\n",
       "    </tr>\n",
       "    <tr>\n",
       "      <th>1</th>\n",
       "      <td>18.0</td>\n",
       "      <td>male</td>\n",
       "      <td>33.770</td>\n",
       "      <td>1.0</td>\n",
       "      <td>no</td>\n",
       "      <td>southeast</td>\n",
       "      <td>1725.55230</td>\n",
       "    </tr>\n",
       "    <tr>\n",
       "      <th>2</th>\n",
       "      <td>28.0</td>\n",
       "      <td>male</td>\n",
       "      <td>33.000</td>\n",
       "      <td>3.0</td>\n",
       "      <td>no</td>\n",
       "      <td>southeast</td>\n",
       "      <td>4449.46200</td>\n",
       "    </tr>\n",
       "    <tr>\n",
       "      <th>3</th>\n",
       "      <td>33.0</td>\n",
       "      <td>male</td>\n",
       "      <td>22.705</td>\n",
       "      <td>0.0</td>\n",
       "      <td>no</td>\n",
       "      <td>northwest</td>\n",
       "      <td>21984.47061</td>\n",
       "    </tr>\n",
       "    <tr>\n",
       "      <th>4</th>\n",
       "      <td>32.0</td>\n",
       "      <td>male</td>\n",
       "      <td>28.880</td>\n",
       "      <td>0.0</td>\n",
       "      <td>no</td>\n",
       "      <td>northwest</td>\n",
       "      <td>3866.85520</td>\n",
       "    </tr>\n",
       "  </tbody>\n",
       "</table>\n",
       "</div>"
      ],
      "text/plain": [
       "    age     sex     bmi  children smoker     region      charges\n",
       "0  19.0  female  27.900       0.0    yes  southwest  16884.92400\n",
       "1  18.0    male  33.770       1.0     no  southeast   1725.55230\n",
       "2  28.0    male  33.000       3.0     no  southeast   4449.46200\n",
       "3  33.0    male  22.705       0.0     no  northwest  21984.47061\n",
       "4  32.0    male  28.880       0.0     no  northwest   3866.85520"
      ]
     },
     "execution_count": 2,
     "metadata": {},
     "output_type": "execute_result"
    }
   ],
   "source": [
    "# chargement des donnees\n",
    "data = pd.read_csv(\"Medical cost.csv\")\n",
    "data.head()"
   ]
  },
  {
   "cell_type": "markdown",
   "id": "ddc8d186",
   "metadata": {},
   "source": [
    "# Previsualisation des donnees"
   ]
  },
  {
   "cell_type": "code",
   "execution_count": 3,
   "id": "325b1241",
   "metadata": {},
   "outputs": [
    {
     "data": {
      "application/vnd.microsoft.datawrangler.viewer.v0+json": {
       "columns": [
        {
         "name": "index",
         "rawType": "int64",
         "type": "integer"
        },
        {
         "name": "age",
         "rawType": "float64",
         "type": "float"
        },
        {
         "name": "sex",
         "rawType": "object",
         "type": "string"
        },
        {
         "name": "bmi",
         "rawType": "float64",
         "type": "float"
        },
        {
         "name": "children",
         "rawType": "float64",
         "type": "float"
        },
        {
         "name": "smoker",
         "rawType": "object",
         "type": "string"
        },
        {
         "name": "region",
         "rawType": "object",
         "type": "string"
        },
        {
         "name": "charges",
         "rawType": "float64",
         "type": "float"
        }
       ],
       "conversionMethod": "pd.DataFrame",
       "ref": "967eac41-a175-40f6-93b6-6354f20889d5",
       "rows": [
        [
         "581",
         "19.0",
         "male",
         "30.59",
         "0.0",
         "no",
         "northwest",
         "1639.5631"
        ]
       ],
       "shape": {
        "columns": 7,
        "rows": 1
       }
      },
      "text/html": [
       "<div>\n",
       "<style scoped>\n",
       "    .dataframe tbody tr th:only-of-type {\n",
       "        vertical-align: middle;\n",
       "    }\n",
       "\n",
       "    .dataframe tbody tr th {\n",
       "        vertical-align: top;\n",
       "    }\n",
       "\n",
       "    .dataframe thead th {\n",
       "        text-align: right;\n",
       "    }\n",
       "</style>\n",
       "<table border=\"1\" class=\"dataframe\">\n",
       "  <thead>\n",
       "    <tr style=\"text-align: right;\">\n",
       "      <th></th>\n",
       "      <th>age</th>\n",
       "      <th>sex</th>\n",
       "      <th>bmi</th>\n",
       "      <th>children</th>\n",
       "      <th>smoker</th>\n",
       "      <th>region</th>\n",
       "      <th>charges</th>\n",
       "    </tr>\n",
       "  </thead>\n",
       "  <tbody>\n",
       "    <tr>\n",
       "      <th>581</th>\n",
       "      <td>19.0</td>\n",
       "      <td>male</td>\n",
       "      <td>30.59</td>\n",
       "      <td>0.0</td>\n",
       "      <td>no</td>\n",
       "      <td>northwest</td>\n",
       "      <td>1639.5631</td>\n",
       "    </tr>\n",
       "  </tbody>\n",
       "</table>\n",
       "</div>"
      ],
      "text/plain": [
       "      age   sex    bmi  children smoker     region    charges\n",
       "581  19.0  male  30.59       0.0     no  northwest  1639.5631"
      ]
     },
     "execution_count": 3,
     "metadata": {},
     "output_type": "execute_result"
    }
   ],
   "source": [
    "# control des lignes dupliquees\n",
    "data[data.duplicated()]"
   ]
  },
  {
   "cell_type": "code",
   "execution_count": 4,
   "id": "b8c579df",
   "metadata": {},
   "outputs": [],
   "source": [
    "# supression des lignes dupliquees\n",
    "data = data.drop_duplicates(keep=\"first\")"
   ]
  },
  {
   "cell_type": "code",
   "execution_count": 5,
   "id": "373fb8d6",
   "metadata": {},
   "outputs": [
    {
     "data": {
      "text/plain": [
       "(1337, 7)"
      ]
     },
     "execution_count": 5,
     "metadata": {},
     "output_type": "execute_result"
    }
   ],
   "source": [
    "# taille du jeu de donnees\n",
    "data.shape"
   ]
  },
  {
   "cell_type": "code",
   "execution_count": 6,
   "id": "54c87467",
   "metadata": {},
   "outputs": [
    {
     "data": {
      "text/plain": [
       "age         float64\n",
       "sex          object\n",
       "bmi         float64\n",
       "children    float64\n",
       "smoker       object\n",
       "region       object\n",
       "charges     float64\n",
       "dtype: object"
      ]
     },
     "execution_count": 6,
     "metadata": {},
     "output_type": "execute_result"
    }
   ],
   "source": [
    "# control du type des colonnees\n",
    "data.dtypes"
   ]
  },
  {
   "cell_type": "code",
   "execution_count": 7,
   "id": "669c1b40",
   "metadata": {},
   "outputs": [
    {
     "data": {
      "text/plain": [
       "Index(['age', 'sex', 'bmi', 'children', 'smoker', 'region', 'charges'], dtype='object')"
      ]
     },
     "execution_count": 7,
     "metadata": {},
     "output_type": "execute_result"
    }
   ],
   "source": [
    "# liste des colonnees\n",
    "data.columns"
   ]
  },
  {
   "cell_type": "markdown",
   "id": "97f3c7fd",
   "metadata": {},
   "source": [
    "# Preprocessing"
   ]
  },
  {
   "cell_type": "markdown",
   "id": "94f673d9",
   "metadata": {},
   "source": [
    "## gestion des donnees manquantes"
   ]
  },
  {
   "cell_type": "code",
   "execution_count": 8,
   "id": "28d8f4c3",
   "metadata": {},
   "outputs": [
    {
     "data": {
      "text/plain": [
       "age         9\n",
       "sex         0\n",
       "bmi         6\n",
       "children    7\n",
       "smoker      0\n",
       "region      0\n",
       "charges     0\n",
       "dtype: int64"
      ]
     },
     "execution_count": 8,
     "metadata": {},
     "output_type": "execute_result"
    }
   ],
   "source": [
    "# control des donnees manquantes\n",
    "data.isna().sum()"
   ]
  },
  {
   "cell_type": "code",
   "execution_count": 9,
   "id": "8ce015cc",
   "metadata": {},
   "outputs": [
    {
     "data": {
      "image/png": "[encoded data removed]",
      "text/plain": [
       "<Figure size 2100x400 with 1 Axes>"
      ]
     },
     "metadata": {},
     "output_type": "display_data"
    }
   ],
   "source": [
    "## gestion de la colonne : age\n",
    "# control de l'etat de la colonne age\n",
    "plt.figure(figsize=(21,4))\n",
    "plt.title(\"Repartition des donnees dans la colonne age (value_counts)\")\n",
    "sns.countplot(data=data, x=\"age\")\n",
    "plt.xticks(rotation=90)\n",
    "plt.show()"
   ]
  },
  {
   "cell_type": "code",
   "execution_count": 10,
   "id": "84965571",
   "metadata": {},
   "outputs": [
    {
     "name": "stdout",
     "output_type": "stream",
     "text": [
      "Moyenne de la colonne age : 39.26129518072289 , Mediane de la colonne age : 39.0\n"
     ]
    }
   ],
   "source": [
    "# control de la moyenne et de la mediane\n",
    "print(f\"Moyenne de la colonne age : {data.age.mean()} , Mediane de la colonne age : {data.age.median()}\")"
   ]
  },
  {
   "cell_type": "code",
   "execution_count": 11,
   "id": "5c879681",
   "metadata": {},
   "outputs": [
    {
     "data": {
      "image/png": "[encoded data removed]",
      "text/plain": [
       "<Figure size 2100x400 with 1 Axes>"
      ]
     },
     "metadata": {},
     "output_type": "display_data"
    }
   ],
   "source": [
    "# ramener les valeurs manquantes a la mediane\n",
    "data.age = data.age.fillna(data.age.median())\n",
    "\n",
    "# visualisation\n",
    "plt.figure(figsize=(21,4))\n",
    "plt.title(\"Repartition des donnees dans la colonne age (value_counts)\")\n",
    "sns.countplot(data=data, x=\"age\")\n",
    "plt.xticks(rotation=90)\n",
    "plt.show()"
   ]
  },
  {
   "cell_type": "code",
   "execution_count": 12,
   "id": "11003b03",
   "metadata": {},
   "outputs": [
    {
     "data": {
      "text/plain": [
       "{32.3: 13,\n",
       " 28.31: 9,\n",
       " 34.1: 8,\n",
       " 28.88: 8,\n",
       " 30.8: 8,\n",
       " 31.35: 8,\n",
       " 30.495: 8,\n",
       " 30.875: 8,\n",
       " 27.36: 7,\n",
       " 24.32: 7,\n",
       " 27.645: 7,\n",
       " 32.775: 7,\n",
       " 32.11: 7,\n",
       " 38.06: 7,\n",
       " 33.33: 7,\n",
       " 25.46: 7,\n",
       " 34.8: 7,\n",
       " 25.8: 7,\n",
       " 35.2: 7,\n",
       " 27.5: 6,\n",
       " 35.53: 6,\n",
       " 30.59: 6,\n",
       " 26.41: 6,\n",
       " 25.175: 6,\n",
       " 28.595: 6,\n",
       " 37.1: 6,\n",
       " 27.74: 6,\n",
       " 29.92: 6,\n",
       " 33.63: 6,\n",
       " 29.83: 6,\n",
       " 30.115: 6,\n",
       " 19.95: 6,\n",
       " 31.73: 6,\n",
       " 26.6: 6,\n",
       " 33.0: 6,\n",
       " 30.2: 6,\n",
       " 23.655: 5,\n",
       " 26.03: 5,\n",
       " 26.695: 5,\n",
       " 28.5: 5,\n",
       " 23.21: 5,\n",
       " 22.515: 5,\n",
       " 33.155: 5,\n",
       " 27.835: 5,\n",
       " 23.18: 5,\n",
       " 26.315: 5,\n",
       " 29.7: 5,\n",
       " 27.6: 5,\n",
       " 28.785: 5,\n",
       " 28.975: 5,\n",
       " 30.4: 5,\n",
       " 32.395: 5,\n",
       " 33.345: 5,\n",
       " 31.92: 5,\n",
       " 36.85: 5,\n",
       " 29.64: 5,\n",
       " 25.3: 5,\n",
       " 34.2: 5,\n",
       " 28.025: 5,\n",
       " 28.7: 5,\n",
       " 25.08: 5,\n",
       " 31.825: 5,\n",
       " 33.66: 5,\n",
       " 28.9: 5,\n",
       " 24.7: 4,\n",
       " 26.22: 4,\n",
       " 32.68: 4,\n",
       " 29.6: 4,\n",
       " 31.065: 4,\n",
       " 25.74: 4,\n",
       " 33.44: 4,\n",
       " 33.82: 4,\n",
       " 25.84: 4,\n",
       " 27.55: 4,\n",
       " 31.79: 4,\n",
       " 28.12: 4,\n",
       " 29.735: 4,\n",
       " 24.13: 4,\n",
       " 27.83: 4,\n",
       " 29.8: 4,\n",
       " 28.215: 4,\n",
       " 30.78: 4,\n",
       " 22.61: 4,\n",
       " 33.915: 4,\n",
       " 31.13: 4,\n",
       " 21.85: 4,\n",
       " 27.1: 4,\n",
       " 27.72: 4,\n",
       " 36.3: 4,\n",
       " 36.67: 4,\n",
       " 35.625: 4,\n",
       " 32.965: 4,\n",
       " 34.43: 4,\n",
       " 36.955: 4,\n",
       " 31.16: 4,\n",
       " 37.29: 4,\n",
       " 24.795: 4,\n",
       " 35.815: 4,\n",
       " 34.105: 4,\n",
       " 29.26: 4,\n",
       " 25.6: 4,\n",
       " 30.5: 4,\n",
       " 29.81: 4,\n",
       " 26.125: 4,\n",
       " 30.21: 4,\n",
       " 34.21: 4,\n",
       " 35.97: 4,\n",
       " 20.235: 4,\n",
       " 27.265: 4,\n",
       " 33.1: 4,\n",
       " 21.755: 4,\n",
       " 22.135: 4,\n",
       " 26.885: 4,\n",
       " 22.895: 4,\n",
       " 34.4: 4,\n",
       " 42.13: 4,\n",
       " 35.3: 4,\n",
       " 30.02: 4,\n",
       " 35.86: 4,\n",
       " 27.93: 4,\n",
       " 36.08: 4,\n",
       " 26.4: 4,\n",
       " 24.605: 4,\n",
       " 33.11: 4,\n",
       " 34.77: 3,\n",
       " 22.705: 3,\n",
       " 23.845: 3,\n",
       " 28.69: 3,\n",
       " 31.255: 3,\n",
       " 18.335: 3,\n",
       " 25.9: 3,\n",
       " 25.745: 3,\n",
       " 39.49: 3,\n",
       " 46.53: 3,\n",
       " 33.88: 3,\n",
       " 41.91: 3,\n",
       " 38.39: 3,\n",
       " 31.02: 3,\n",
       " 38.17: 3,\n",
       " 36.48: 3,\n",
       " 39.16: 3,\n",
       " 25.365: 3,\n",
       " 40.15: 3,\n",
       " 38.0: 3,\n",
       " 31.4: 3,\n",
       " 25.27: 3,\n",
       " 36.1: 3,\n",
       " 34.96: 3,\n",
       " 30.03: 3,\n",
       " 30.685: 3,\n",
       " 39.05: 3,\n",
       " 32.9: 3,\n",
       " 35.75: 3,\n",
       " 32.8: 3,\n",
       " 24.225: 3,\n",
       " 29.9: 3,\n",
       " 33.535: 3,\n",
       " 28.6: 3,\n",
       " 30.9: 3,\n",
       " 29.48: 3,\n",
       " 34.32: 3,\n",
       " 19.8: 3,\n",
       " 39.6: 3,\n",
       " 41.47: 3,\n",
       " 30.3: 3,\n",
       " 38.83: 3,\n",
       " 37.43: 3,\n",
       " 32.2: 3,\n",
       " 24.3: 3,\n",
       " 24.42: 3,\n",
       " 37.4: 3,\n",
       " 25.555: 3,\n",
       " 28.05: 3,\n",
       " 31.9: 3,\n",
       " 40.565: 3,\n",
       " 36.765: 3,\n",
       " 33.4: 3,\n",
       " 22.99: 3,\n",
       " 27.7: 3,\n",
       " 36.63: 3,\n",
       " 27.94: 3,\n",
       " 23.37: 3,\n",
       " 23.75: 3,\n",
       " 37.05: 3,\n",
       " 36.19: 3,\n",
       " 28.0: 3,\n",
       " 26.98: 3,\n",
       " 38.28: 3,\n",
       " 31.6: 3,\n",
       " 24.6: 3,\n",
       " 37.07: 3,\n",
       " 21.66: 3,\n",
       " 29.925: 3,\n",
       " 25.935: 3,\n",
       " 22.42: 3,\n",
       " 23.98: 3,\n",
       " 21.47: 3,\n",
       " 36.86: 3,\n",
       " 28.93: 3,\n",
       " 38.095: 3,\n",
       " 41.325: 3,\n",
       " 24.51: 3,\n",
       " 24.035: 3,\n",
       " 17.29: 3,\n",
       " 33.7: 3,\n",
       " 33.25: 3,\n",
       " 40.37: 2,\n",
       " 33.3: 2,\n",
       " 32.67: 2,\n",
       " 32.56: 2,\n",
       " 39.5: 2,\n",
       " 28.1: 2,\n",
       " 32.01: 2,\n",
       " 27.4: 2,\n",
       " 29.59: 2,\n",
       " 39.805: 2,\n",
       " 42.9: 2,\n",
       " 26.79: 2,\n",
       " 23.56: 2,\n",
       " 31.0: 2,\n",
       " 44.22: 2,\n",
       " 21.4: 2,\n",
       " 32.34: 2,\n",
       " 33.99: 2,\n",
       " 25.0: 2,\n",
       " 37.18: 2,\n",
       " 35.8: 2,\n",
       " 37.335: 2,\n",
       " 31.68: 2,\n",
       " 34.485: 2,\n",
       " 21.78: 2,\n",
       " 26.73: 2,\n",
       " 26.62: 2,\n",
       " 34.39: 2,\n",
       " 37.51: 2,\n",
       " 27.455: 2,\n",
       " 26.84: 2,\n",
       " 29.37: 2,\n",
       " 40.28: 2,\n",
       " 30.1: 2,\n",
       " 23.7: 2,\n",
       " 29.15: 2,\n",
       " 22.8: 2,\n",
       " 34.58: 2,\n",
       " 26.7: 2,\n",
       " 35.91: 2,\n",
       " 29.0: 2,\n",
       " 40.26: 2,\n",
       " 33.725: 2,\n",
       " 32.6: 2,\n",
       " 43.89: 2,\n",
       " 24.985: 2,\n",
       " 32.015: 2,\n",
       " 22.23: 2,\n",
       " 36.385: 2,\n",
       " 35.245: 2,\n",
       " 34.865: 2,\n",
       " 24.1: 2,\n",
       " 36.2: 2,\n",
       " 40.185: 2,\n",
       " 28.405: 2,\n",
       " 29.07: 2,\n",
       " 26.8: 2,\n",
       " 20.9: 2,\n",
       " 31.635: 2,\n",
       " 38.94: 2,\n",
       " 20.045: 2,\n",
       " 29.355: 2,\n",
       " 22.3: 2,\n",
       " 22.6: 2,\n",
       " 16.815: 2,\n",
       " 19.855: 2,\n",
       " 20.6: 2,\n",
       " 38.38: 2,\n",
       " 24.31: 2,\n",
       " 23.6: 2,\n",
       " 21.375: 2,\n",
       " 31.46: 2,\n",
       " 31.445: 2,\n",
       " 29.3: 2,\n",
       " 39.7: 2,\n",
       " 42.4: 2,\n",
       " 27.17: 2,\n",
       " 26.18: 2,\n",
       " 26.51: 2,\n",
       " 36.575: 2,\n",
       " 31.5: 2,\n",
       " 24.86: 2,\n",
       " 31.57: 2,\n",
       " 32.23: 2,\n",
       " 41.14: 2,\n",
       " 41.8: 2,\n",
       " 30.69: 2,\n",
       " 37.0: 2,\n",
       " 20.52: 2,\n",
       " 37.73: 2,\n",
       " 34.7: 2,\n",
       " 36.0: 2,\n",
       " 32.49: 2,\n",
       " 28.3: 2,\n",
       " 28.4: 2,\n",
       " 35.72: 2,\n",
       " 32.205: 2,\n",
       " 37.62: 2,\n",
       " 41.23: 2,\n",
       " 27.2: 2,\n",
       " 32.7: 2,\n",
       " 31.54: 2,\n",
       " 20.8: 2,\n",
       " 34.6: 2,\n",
       " 30.305: 2,\n",
       " 39.82: 2,\n",
       " 23.085: 2,\n",
       " 33.77: 2,\n",
       " 25.7: 2,\n",
       " 38.6: 2,\n",
       " 23.4: 2,\n",
       " 30.14: 2,\n",
       " 30.0: 2,\n",
       " 23.465: 2,\n",
       " 28.27: 2,\n",
       " 30.25: 2,\n",
       " 35.31: 2,\n",
       " 23.94: 1,\n",
       " 45.9: 1,\n",
       " 21.5: 1,\n",
       " 44.88: 1,\n",
       " 41.1: 1,\n",
       " 28.49: 1,\n",
       " 27.06: 1,\n",
       " 39.4: 1,\n",
       " 34.9: 1,\n",
       " 21.8: 1,\n",
       " 23.3: 1,\n",
       " 36.96: 1,\n",
       " 21.28: 1,\n",
       " 29.4: 1,\n",
       " 42.655: 1,\n",
       " 32.0: 1,\n",
       " 18.3: 1,\n",
       " 47.74: 1,\n",
       " 22.1: 1,\n",
       " 19.19: 1,\n",
       " 20.13: 1,\n",
       " 23.32: 1,\n",
       " 45.32: 1,\n",
       " 18.715: 1,\n",
       " 21.565: 1,\n",
       " 23.0: 1,\n",
       " 36.4: 1,\n",
       " 20.425: 1,\n",
       " 17.385: 1,\n",
       " 35.6: 1,\n",
       " 36.005: 1,\n",
       " 30.97: 1,\n",
       " 34.3: 1,\n",
       " 43.4: 1,\n",
       " 28.38: 1,\n",
       " 24.09: 1,\n",
       " 25.1: 1,\n",
       " 25.65: 1,\n",
       " 46.75: 1,\n",
       " 29.45: 1,\n",
       " 33.5: 1,\n",
       " 43.01: 1,\n",
       " 36.52: 1,\n",
       " 43.12: 1,\n",
       " 34.295: 1,\n",
       " 45.43: 1,\n",
       " 23.65: 1,\n",
       " 20.7: 1,\n",
       " 46.7: 1,\n",
       " 46.2: 1,\n",
       " 23.8: 1,\n",
       " 44.77: 1,\n",
       " 32.12: 1,\n",
       " 29.1: 1,\n",
       " 26.07: 1,\n",
       " 39.425: 1,\n",
       " 40.48: 1,\n",
       " 38.9: 1,\n",
       " 47.41: 1,\n",
       " 35.435: 1,\n",
       " 39.2: 1,\n",
       " 35.7: 1,\n",
       " 35.64: 1,\n",
       " 29.165: 1,\n",
       " 26.9: 1,\n",
       " 21.12: 1,\n",
       " 17.48: 1,\n",
       " 17.195: 1,\n",
       " 23.9: 1,\n",
       " 35.15: 1,\n",
       " 47.52: 1,\n",
       " 20.4: 1,\n",
       " 24.89: 1,\n",
       " 17.955: 1,\n",
       " 43.34: 1,\n",
       " 40.81: 1,\n",
       " 17.4: 1,\n",
       " 20.3: 1,\n",
       " 18.5: 1,\n",
       " 38.95: 1,\n",
       " 38.19: 1,\n",
       " 42.68: 1,\n",
       " 37.525: 1,\n",
       " 37.8: 1,\n",
       " 19.0: 1,\n",
       " 21.3: 1,\n",
       " 42.46: 1,\n",
       " 19.57: 1,\n",
       " 21.89: 1,\n",
       " 21.09: 1,\n",
       " 20.79: 1,\n",
       " 21.7: 1,\n",
       " 33.8: 1,\n",
       " 36.7: 1,\n",
       " 34.5: 1,\n",
       " 33.06: 1,\n",
       " 40.945: 1,\n",
       " 28.82: 1,\n",
       " 25.41: 1,\n",
       " 31.2: 1,\n",
       " 48.07: 1,\n",
       " 45.54: 1,\n",
       " 20.615: 1,\n",
       " 21.56: 1,\n",
       " 42.35: 1,\n",
       " 22.77: 1,\n",
       " 19.475: 1,\n",
       " 24.4: 1,\n",
       " 32.1: 1,\n",
       " 35.5: 1,\n",
       " 27.0: 1,\n",
       " 37.905: 1,\n",
       " 23.54: 1,\n",
       " 40.47: 1,\n",
       " 40.66: 1,\n",
       " 36.6: 1,\n",
       " 35.4: 1,\n",
       " 27.075: 1,\n",
       " 41.69: 1,\n",
       " 39.27: 1,\n",
       " 34.87: 1,\n",
       " 44.745: 1,\n",
       " 29.545: 1,\n",
       " 24.415: 1,\n",
       " 25.2: 1,\n",
       " 17.8: 1,\n",
       " 22.22: 1,\n",
       " 24.64: 1,\n",
       " 36.195: 1,\n",
       " 31.8: 1,\n",
       " 23.1: 1,\n",
       " 29.5: 1,\n",
       " 29.04: 1,\n",
       " 44.0: 1,\n",
       " 40.92: 1,\n",
       " 35.1: 1,\n",
       " 32.45: 1,\n",
       " 50.38: 1,\n",
       " 47.6: 1,\n",
       " 25.4: 1,\n",
       " 43.7: 1,\n",
       " 28.8: 1,\n",
       " 42.94: 1,\n",
       " 21.01: 1,\n",
       " 17.67: 1,\n",
       " 31.1: 1,\n",
       " 32.78: 1,\n",
       " 42.24: 1,\n",
       " 41.42: 1,\n",
       " 26.2: 1,\n",
       " 18.05: 1,\n",
       " 39.33: 1,\n",
       " 37.7: 1,\n",
       " 29.2: 1,\n",
       " 41.895: 1,\n",
       " 18.905: 1,\n",
       " 15.96: 1,\n",
       " 37.145: 1,\n",
       " 39.52: 1,\n",
       " 26.505: 1,\n",
       " 22.04: 1,\n",
       " 35.9: 1,\n",
       " 17.765: 1,\n",
       " 49.06: 1,\n",
       " 35.09: 1,\n",
       " 31.3: 1,\n",
       " 19.3: 1,\n",
       " 38.285: 1,\n",
       " 34.01: 1,\n",
       " 40.5: 1,\n",
       " 35.42: 1,\n",
       " 39.995: 1,\n",
       " 34.675: 1,\n",
       " 23.275: 1,\n",
       " 36.29: 1,\n",
       " 39.615: 1,\n",
       " 28.16: 1,\n",
       " 23.2: 1,\n",
       " 20.1: 1,\n",
       " 32.5: 1,\n",
       " 46.09: 1,\n",
       " 39.93: 1,\n",
       " 32.585: 1,\n",
       " 39.8: 1,\n",
       " 28.2: 1,\n",
       " 33.2: 1,\n",
       " 39.1: 1,\n",
       " 24.75: 1,\n",
       " 22.88: 1,\n",
       " 24.53: 1,\n",
       " 39.9: 1,\n",
       " 37.3: 1,\n",
       " 38.665: 1,\n",
       " 22.0: 1,\n",
       " 30.36: 1,\n",
       " 27.8: 1,\n",
       " 53.13: 1,\n",
       " 39.71: 1,\n",
       " 32.87: 1,\n",
       " 44.7: 1,\n",
       " 27.9: 1,\n",
       " 37.9: 1,\n",
       " 37.715: 1,\n",
       " 23.76: 1,\n",
       " 25.52: 1,\n",
       " 27.61: 1,\n",
       " 27.3: 1,\n",
       " 40.375: 1,\n",
       " 27.28: 1,\n",
       " 17.86: 1,\n",
       " 39.14: 1,\n",
       " 21.945: 1,\n",
       " 24.97: 1,\n",
       " 33.55: 1,\n",
       " 19.095: 1,\n",
       " 31.24: 1,\n",
       " 20.35: 1,\n",
       " 25.85: 1,\n",
       " 42.75: 1,\n",
       " 18.6: 1,\n",
       " 23.87: 1,\n",
       " 52.58: 1}"
      ]
     },
     "execution_count": 12,
     "metadata": {},
     "output_type": "execute_result"
    }
   ],
   "source": [
    "## gestion de la colonne : bmi\n",
    "# control de la colonne bmi\n",
    "dict(data.bmi.value_counts())"
   ]
  },
  {
   "cell_type": "code",
   "execution_count": 13,
   "id": "c6f12890",
   "metadata": {},
   "outputs": [],
   "source": [
    "# remplacement par la moyenne\n",
    "data.bmi = data.bmi.fillna(data.bmi.mean())"
   ]
  },
  {
   "cell_type": "code",
   "execution_count": 14,
   "id": "7e32b142",
   "metadata": {},
   "outputs": [
    {
     "data": {
      "text/plain": [
       "children\n",
       "0.0    571\n",
       "1.0    322\n",
       "2.0    238\n",
       "3.0    157\n",
       "4.0     24\n",
       "5.0     18\n",
       "Name: count, dtype: int64"
      ]
     },
     "execution_count": 14,
     "metadata": {},
     "output_type": "execute_result"
    }
   ],
   "source": [
    "## gestion de la colonne : children\n",
    "data.children.value_counts()"
   ]
  },
  {
   "cell_type": "code",
   "execution_count": 15,
   "id": "d5768fee",
   "metadata": {},
   "outputs": [],
   "source": [
    "# remplacement des donnees manquantes par le mode\n",
    "data.children = data.children.fillna(data.children.mode()[0]) # 0.0"
   ]
  },
  {
   "cell_type": "code",
   "execution_count": 16,
   "id": "67f39ef4",
   "metadata": {},
   "outputs": [
    {
     "data": {
      "text/plain": [
       "age         0\n",
       "sex         0\n",
       "bmi         0\n",
       "children    0\n",
       "smoker      0\n",
       "region      0\n",
       "charges     0\n",
       "dtype: int64"
      ]
     },
     "execution_count": 16,
     "metadata": {},
     "output_type": "execute_result"
    }
   ],
   "source": [
    "# control finale\n",
    "data.isna().sum()"
   ]
  },
  {
   "cell_type": "markdown",
   "id": "a40425d7",
   "metadata": {},
   "source": [
    "## gestion des outlayers"
   ]
  },
  {
   "cell_type": "code",
   "execution_count": 17,
   "id": "743c8d29",
   "metadata": {},
   "outputs": [
    {
     "data": {
      "image/png": "[encoded data removed]",
      "text/plain": [
       "<Figure size 700x500 with 1 Axes>"
      ]
     },
     "metadata": {},
     "output_type": "display_data"
    },
    {
     "data": {
      "image/png": "[encoded data removed]",
      "text/plain": [
       "<Figure size 700x500 with 1 Axes>"
      ]
     },
     "metadata": {},
     "output_type": "display_data"
    },
    {
     "data": {
      "image/png": "[encoded data removed]",
      "text/plain": [
       "<Figure size 700x500 with 1 Axes>"
      ]
     },
     "metadata": {},
     "output_type": "display_data"
    },
    {
     "data": {
      "image/png": "[encoded data removed]",
      "text/plain": [
       "<Figure size 700x500 with 1 Axes>"
      ]
     },
     "metadata": {},
     "output_type": "display_data"
    }
   ],
   "source": [
    "# control des outlayers\n",
    "for i in list(data.select_dtypes(include=['int64', 'float64']).columns) : # liste des colonne numeriques\n",
    "    plt.figure(figsize=(7,5))\n",
    "    sns.boxplot(data=data, x=f\"{i}\")\n",
    "    plt.title(f\"{i}\")\n",
    "    plt.show()"
   ]
  },
  {
   "cell_type": "code",
   "execution_count": 18,
   "id": "940591a5",
   "metadata": {},
   "outputs": [],
   "source": [
    "## FONCTION DE DETERMINATION DES OUTLAYERS : METHODES \"IGR\" ##\n",
    "def detect_outliers_iqr(column_name):\n",
    "    Q1 = data[column_name].quantile(0.25)\n",
    "    Q3 = data[column_name].quantile(0.75)\n",
    "    IQR = Q3 - Q1\n",
    "    \n",
    "    lower_bound = Q1 - 1.5 * IQR\n",
    "    upper_bound = Q3 + 1.5 * IQR\n",
    "    \n",
    "    outliers = data[(data[column_name] < lower_bound) | (data[column_name] > upper_bound)]\n",
    "    outlier_rate = (len(outliers) / len(data)) * 100\n",
    "    \n",
    "    print(f\"Analysis for {column_name}:\")\n",
    "    print(f\"Lower bound: {lower_bound:.2f}\")\n",
    "    print(f\"Upper bound: {upper_bound:.2f}\")\n",
    "    print(f\"Number of outliers: {len(outliers)}\")\n",
    "    print(f\"Percentage of outliers: {outlier_rate:.2f}%\")"
   ]
  },
  {
   "cell_type": "code",
   "execution_count": 19,
   "id": "8715bc01",
   "metadata": {},
   "outputs": [
    {
     "name": "stdout",
     "output_type": "stream",
     "text": [
      "Analysis for bmi:\n",
      "Lower bound: 13.89\n",
      "Upper bound: 47.03\n",
      "Number of outliers: 9\n",
      "Percentage of outliers: 0.67%\n"
     ]
    }
   ],
   "source": [
    "# application a la colonne bmi\n",
    "detect_outliers_iqr('bmi')"
   ]
  },
  {
   "cell_type": "code",
   "execution_count": 20,
   "id": "3ad0b4d9",
   "metadata": {},
   "outputs": [],
   "source": [
    "# ramener les donnees aberantes a la borne superieur \n",
    "data.loc[data[\"bmi\"] > 47.03 , \"bmi\"] = 47.03"
   ]
  },
  {
   "cell_type": "code",
   "execution_count": 21,
   "id": "00931ca7",
   "metadata": {},
   "outputs": [
    {
     "name": "stdout",
     "output_type": "stream",
     "text": [
      "Analysis for charges:\n",
      "Lower bound: -13120.72\n",
      "Upper bound: 34524.78\n",
      "Number of outliers: 139\n",
      "Percentage of outliers: 10.40%\n"
     ]
    }
   ],
   "source": [
    "# application a la colonne charges\n",
    "detect_outliers_iqr('charges')"
   ]
  },
  {
   "cell_type": "code",
   "execution_count": 22,
   "id": "b185df7f",
   "metadata": {},
   "outputs": [],
   "source": [
    "# outlayers continue et taux important : conservation jusqua un taux definie : 50.000\n",
    "data.loc[data[\"charges\"] > 50000 , \"charges\"] = 50000"
   ]
  },
  {
   "cell_type": "code",
   "execution_count": 23,
   "id": "00b26bbd",
   "metadata": {},
   "outputs": [
    {
     "data": {
      "image/png": "[encoded data removed]",
      "text/plain": [
       "<Figure size 1000x500 with 1 Axes>"
      ]
     },
     "metadata": {},
     "output_type": "display_data"
    },
    {
     "data": {
      "image/png": "[encoded data removed]",
      "text/plain": [
       "<Figure size 1000x500 with 1 Axes>"
      ]
     },
     "metadata": {},
     "output_type": "display_data"
    },
    {
     "data": {
      "image/png": "[encoded data removed]",
      "text/plain": [
       "<Figure size 1000x500 with 1 Axes>"
      ]
     },
     "metadata": {},
     "output_type": "display_data"
    },
    {
     "data": {
      "image/png": "[encoded data removed]",
      "text/plain": [
       "<Figure size 1000x500 with 1 Axes>"
      ]
     },
     "metadata": {},
     "output_type": "display_data"
    }
   ],
   "source": [
    "# control\n",
    "for i in list(data.select_dtypes(include=['int64', 'float64']).columns) : # liste des colonne numeriques\n",
    "    plt.figure(figsize=(10,5))\n",
    "    sns.boxplot(data=data, x=f\"{i}\")\n",
    "    plt.title(f\"{i}\")\n",
    "    plt.show()"
   ]
  },
  {
   "cell_type": "markdown",
   "id": "7444b9d8",
   "metadata": {},
   "source": [
    "## controle et visualisation des donnees"
   ]
  },
  {
   "cell_type": "code",
   "execution_count": 24,
   "id": "08ed9668",
   "metadata": {},
   "outputs": [
    {
     "data": {
      "text/plain": [
       "Index(['age', 'sex', 'bmi', 'children', 'smoker', 'region', 'charges'], dtype='object')"
      ]
     },
     "execution_count": 24,
     "metadata": {},
     "output_type": "execute_result"
    }
   ],
   "source": [
    "data.columns"
   ]
  },
  {
   "cell_type": "code",
   "execution_count": 25,
   "id": "def8167d",
   "metadata": {},
   "outputs": [
    {
     "data": {
      "image/png": "[encoded data removed]",
      "text/plain": [
       "<Figure size 2100x400 with 1 Axes>"
      ]
     },
     "metadata": {},
     "output_type": "display_data"
    }
   ],
   "source": [
    "# control de la colonne age\n",
    "plt.figure(figsize=(21,4))\n",
    "plt.title(\"Repartition des donnees dans la colonne age (value_counts)\")\n",
    "sns.countplot(data=data, x=\"age\")\n",
    "plt.xticks(rotation=90)\n",
    "plt.show()"
   ]
  },
  {
   "cell_type": "code",
   "execution_count": 26,
   "id": "9d03c641",
   "metadata": {},
   "outputs": [
    {
     "data": {
      "text/plain": [
       "array(['female', 'male'], dtype=object)"
      ]
     },
     "execution_count": 26,
     "metadata": {},
     "output_type": "execute_result"
    }
   ],
   "source": [
    "# control de la colonne sex\n",
    "data.sex.unique()"
   ]
  },
  {
   "cell_type": "code",
   "execution_count": 27,
   "id": "66037a15",
   "metadata": {},
   "outputs": [
    {
     "data": {
      "image/png": "[encoded data removed]",
      "text/plain": [
       "<Figure size 2100x400 with 1 Axes>"
      ]
     },
     "metadata": {},
     "output_type": "display_data"
    }
   ],
   "source": [
    "plt.figure(figsize=(21,4))\n",
    "plt.title(\"Repartition des donnees dans la colonne age (value_counts)\")\n",
    "sns.countplot(data=data, x=\"sex\")\n",
    "plt.xticks(rotation=45)\n",
    "plt.show()"
   ]
  },
  {
   "cell_type": "code",
   "execution_count": 28,
   "id": "31d03c17",
   "metadata": {},
   "outputs": [
    {
     "data": {
      "text/plain": [
       "{32.3: 13,\n",
       " 47.03: 9,\n",
       " 28.31: 9,\n",
       " 30.8: 8,\n",
       " 31.35: 8,\n",
       " 30.875: 8,\n",
       " 34.1: 8,\n",
       " 28.88: 8,\n",
       " 30.495: 8,\n",
       " 38.06: 7,\n",
       " 27.645: 7,\n",
       " 34.8: 7,\n",
       " 25.8: 7,\n",
       " 35.2: 7,\n",
       " 33.33: 7,\n",
       " 24.32: 7,\n",
       " 25.46: 7,\n",
       " 32.775: 7,\n",
       " 27.36: 7,\n",
       " 32.11: 7,\n",
       " 26.6: 6,\n",
       " 27.5: 6,\n",
       " 26.41: 6,\n",
       " 28.595: 6,\n",
       " 25.175: 6,\n",
       " 31.73: 6,\n",
       " 19.95: 6,\n",
       " 29.83: 6,\n",
       " 27.74: 6,\n",
       " 33.63: 6,\n",
       " 30.2: 6,\n",
       " 37.1: 6,\n",
       " 29.92: 6,\n",
       " 35.53: 6,\n",
       " 30.115: 6,\n",
       " 30.59: 6,\n",
       " 33.0: 6,\n",
       " 30.65484973703982: 6,\n",
       " 23.21: 5,\n",
       " 22.515: 5,\n",
       " 30.4: 5,\n",
       " 26.315: 5,\n",
       " 28.7: 5,\n",
       " 26.695: 5,\n",
       " 31.92: 5,\n",
       " 28.025: 5,\n",
       " 28.785: 5,\n",
       " 33.345: 5,\n",
       " 27.835: 5,\n",
       " 29.64: 5,\n",
       " 33.155: 5,\n",
       " 27.6: 5,\n",
       " 31.825: 5,\n",
       " 33.66: 5,\n",
       " 25.3: 5,\n",
       " 36.85: 5,\n",
       " 23.18: 5,\n",
       " 26.03: 5,\n",
       " 29.7: 5,\n",
       " 34.2: 5,\n",
       " 32.395: 5,\n",
       " 28.5: 5,\n",
       " 28.9: 5,\n",
       " 28.975: 5,\n",
       " 23.655: 5,\n",
       " 25.08: 5,\n",
       " 33.82: 4,\n",
       " 32.68: 4,\n",
       " 36.67: 4,\n",
       " 35.86: 4,\n",
       " 26.4: 4,\n",
       " 35.815: 4,\n",
       " 34.4: 4,\n",
       " 36.3: 4,\n",
       " 24.605: 4,\n",
       " 30.5: 4,\n",
       " 24.7: 4,\n",
       " 29.735: 4,\n",
       " 36.955: 4,\n",
       " 30.78: 4,\n",
       " 36.08: 4,\n",
       " 28.215: 4,\n",
       " 22.895: 4,\n",
       " 24.795: 4,\n",
       " 33.915: 4,\n",
       " 24.13: 4,\n",
       " 25.84: 4,\n",
       " 29.26: 4,\n",
       " 27.83: 4,\n",
       " 34.43: 4,\n",
       " 37.29: 4,\n",
       " 31.16: 4,\n",
       " 26.885: 4,\n",
       " 29.8: 4,\n",
       " 27.265: 4,\n",
       " 25.6: 4,\n",
       " 27.55: 4,\n",
       " 31.79: 4,\n",
       " 33.44: 4,\n",
       " 32.965: 4,\n",
       " 35.625: 4,\n",
       " 35.97: 4,\n",
       " 30.21: 4,\n",
       " 33.1: 4,\n",
       " 33.11: 4,\n",
       " 20.235: 4,\n",
       " 31.13: 4,\n",
       " 21.85: 4,\n",
       " 29.81: 4,\n",
       " 22.61: 4,\n",
       " 26.125: 4,\n",
       " 27.72: 4,\n",
       " 26.22: 4,\n",
       " 42.13: 4,\n",
       " 35.3: 4,\n",
       " 34.105: 4,\n",
       " 25.74: 4,\n",
       " 34.21: 4,\n",
       " 27.1: 4,\n",
       " 21.755: 4,\n",
       " 28.12: 4,\n",
       " 22.135: 4,\n",
       " 30.02: 4,\n",
       " 31.065: 4,\n",
       " 27.93: 4,\n",
       " 29.6: 4,\n",
       " 38.095: 3,\n",
       " 36.86: 3,\n",
       " 23.37: 3,\n",
       " 39.49: 3,\n",
       " 37.05: 3,\n",
       " 34.77: 3,\n",
       " 26.98: 3,\n",
       " 27.94: 3,\n",
       " 38.28: 3,\n",
       " 28.0: 3,\n",
       " 24.51: 3,\n",
       " 24.225: 3,\n",
       " 34.32: 3,\n",
       " 36.765: 3,\n",
       " 33.4: 3,\n",
       " 33.88: 3,\n",
       " 41.91: 3,\n",
       " 17.29: 3,\n",
       " 25.365: 3,\n",
       " 40.15: 3,\n",
       " 40.565: 3,\n",
       " 38.0: 3,\n",
       " 22.99: 3,\n",
       " 30.03: 3,\n",
       " 30.685: 3,\n",
       " 31.02: 3,\n",
       " 38.17: 3,\n",
       " 31.4: 3,\n",
       " 25.27: 3,\n",
       " 39.05: 3,\n",
       " 27.7: 3,\n",
       " 24.3: 3,\n",
       " 38.39: 3,\n",
       " 19.8: 3,\n",
       " 39.6: 3,\n",
       " 39.16: 3,\n",
       " 29.48: 3,\n",
       " 34.96: 3,\n",
       " 33.535: 3,\n",
       " 36.1: 3,\n",
       " 32.2: 3,\n",
       " 41.47: 3,\n",
       " 25.555: 3,\n",
       " 28.05: 3,\n",
       " 24.42: 3,\n",
       " 32.8: 3,\n",
       " 24.035: 3,\n",
       " 35.75: 3,\n",
       " 32.9: 3,\n",
       " 23.98: 3,\n",
       " 30.9: 3,\n",
       " 29.9: 3,\n",
       " 30.3: 3,\n",
       " 31.255: 3,\n",
       " 18.335: 3,\n",
       " 25.935: 3,\n",
       " 22.42: 3,\n",
       " 25.745: 3,\n",
       " 23.75: 3,\n",
       " 31.9: 3,\n",
       " 37.4: 3,\n",
       " 36.19: 3,\n",
       " 28.69: 3,\n",
       " 21.66: 3,\n",
       " 38.83: 3,\n",
       " 37.43: 3,\n",
       " 31.6: 3,\n",
       " 36.63: 3,\n",
       " 28.6: 3,\n",
       " 24.6: 3,\n",
       " 23.845: 3,\n",
       " 36.48: 3,\n",
       " 41.325: 3,\n",
       " 28.93: 3,\n",
       " 46.53: 3,\n",
       " 21.47: 3,\n",
       " 25.9: 3,\n",
       " 22.705: 3,\n",
       " 29.925: 3,\n",
       " 37.07: 3,\n",
       " 33.7: 3,\n",
       " 33.25: 3,\n",
       " 34.485: 2,\n",
       " 39.82: 2,\n",
       " 33.77: 2,\n",
       " 38.6: 2,\n",
       " 33.3: 2,\n",
       " 39.805: 2,\n",
       " 37.62: 2,\n",
       " 41.23: 2,\n",
       " 27.2: 2,\n",
       " 35.72: 2,\n",
       " 32.205: 2,\n",
       " 21.78: 2,\n",
       " 16.815: 2,\n",
       " 21.4: 2,\n",
       " 32.01: 2,\n",
       " 31.68: 2,\n",
       " 37.335: 2,\n",
       " 37.18: 2,\n",
       " 35.8: 2,\n",
       " 28.1: 2,\n",
       " 34.6: 2,\n",
       " 23.56: 2,\n",
       " 20.52: 2,\n",
       " 30.1: 2,\n",
       " 23.7: 2,\n",
       " 34.39: 2,\n",
       " 24.985: 2,\n",
       " 36.385: 2,\n",
       " 32.015: 2,\n",
       " 22.23: 2,\n",
       " 31.46: 2,\n",
       " 35.245: 2,\n",
       " 43.89: 2,\n",
       " 29.3: 2,\n",
       " 39.7: 2,\n",
       " 40.26: 2,\n",
       " 33.725: 2,\n",
       " 32.6: 2,\n",
       " 24.1: 2,\n",
       " 36.2: 2,\n",
       " 40.185: 2,\n",
       " 42.4: 2,\n",
       " 29.07: 2,\n",
       " 29.37: 2,\n",
       " 27.455: 2,\n",
       " 37.51: 2,\n",
       " 34.865: 2,\n",
       " 26.62: 2,\n",
       " 34.58: 2,\n",
       " 28.405: 2,\n",
       " 40.28: 2,\n",
       " 36.575: 2,\n",
       " 26.7: 2,\n",
       " 41.14: 2,\n",
       " 41.8: 2,\n",
       " 26.18: 2,\n",
       " 29.15: 2,\n",
       " 22.8: 2,\n",
       " 31.635: 2,\n",
       " 22.3: 2,\n",
       " 26.73: 2,\n",
       " 26.8: 2,\n",
       " 20.9: 2,\n",
       " 26.84: 2,\n",
       " 31.54: 2,\n",
       " 21.375: 2,\n",
       " 19.855: 2,\n",
       " 28.27: 2,\n",
       " 35.91: 2,\n",
       " 29.0: 2,\n",
       " 38.38: 2,\n",
       " 24.31: 2,\n",
       " 23.6: 2,\n",
       " 31.445: 2,\n",
       " 22.6: 2,\n",
       " 20.6: 2,\n",
       " 37.0: 2,\n",
       " 31.57: 2,\n",
       " 32.23: 2,\n",
       " 30.69: 2,\n",
       " 20.045: 2,\n",
       " 31.5: 2,\n",
       " 24.86: 2,\n",
       " 26.51: 2,\n",
       " 28.4: 2,\n",
       " 29.355: 2,\n",
       " 32.34: 2,\n",
       " 33.99: 2,\n",
       " 25.0: 2,\n",
       " 38.94: 2,\n",
       " 34.7: 2,\n",
       " 27.17: 2,\n",
       " 36.0: 2,\n",
       " 32.49: 2,\n",
       " 28.3: 2,\n",
       " 37.73: 2,\n",
       " 35.31: 2,\n",
       " 31.0: 2,\n",
       " 44.22: 2,\n",
       " 27.4: 2,\n",
       " 29.59: 2,\n",
       " 32.7: 2,\n",
       " 20.8: 2,\n",
       " 23.085: 2,\n",
       " 30.305: 2,\n",
       " 40.37: 2,\n",
       " 42.9: 2,\n",
       " 26.79: 2,\n",
       " 32.56: 2,\n",
       " 39.5: 2,\n",
       " 23.4: 2,\n",
       " 30.14: 2,\n",
       " 30.0: 2,\n",
       " 25.7: 2,\n",
       " 30.25: 2,\n",
       " 32.67: 2,\n",
       " 23.465: 2,\n",
       " 30.97: 1,\n",
       " 36.005: 1,\n",
       " 17.385: 1,\n",
       " 35.6: 1,\n",
       " 36.4: 1,\n",
       " 27.3: 1,\n",
       " 37.9: 1,\n",
       " 37.715: 1,\n",
       " 23.76: 1,\n",
       " 25.52: 1,\n",
       " 27.61: 1,\n",
       " 27.06: 1,\n",
       " 39.4: 1,\n",
       " 20.35: 1,\n",
       " 25.85: 1,\n",
       " 42.75: 1,\n",
       " 18.6: 1,\n",
       " 23.87: 1,\n",
       " 45.9: 1,\n",
       " 21.5: 1,\n",
       " 44.88: 1,\n",
       " 41.1: 1,\n",
       " 28.49: 1,\n",
       " 33.55: 1,\n",
       " 40.375: 1,\n",
       " 27.28: 1,\n",
       " 17.86: 1,\n",
       " 39.14: 1,\n",
       " 21.945: 1,\n",
       " 24.97: 1,\n",
       " 23.94: 1,\n",
       " 33.5: 1,\n",
       " 43.01: 1,\n",
       " 36.52: 1,\n",
       " 25.65: 1,\n",
       " 28.38: 1,\n",
       " 24.09: 1,\n",
       " 25.1: 1,\n",
       " 34.3: 1,\n",
       " 43.4: 1,\n",
       " 39.2: 1,\n",
       " 35.7: 1,\n",
       " 26.07: 1,\n",
       " 39.425: 1,\n",
       " 40.48: 1,\n",
       " 38.9: 1,\n",
       " 35.435: 1,\n",
       " 46.7: 1,\n",
       " 46.2: 1,\n",
       " 23.8: 1,\n",
       " 44.77: 1,\n",
       " 32.12: 1,\n",
       " 29.1: 1,\n",
       " 43.12: 1,\n",
       " 34.295: 1,\n",
       " 45.43: 1,\n",
       " 23.65: 1,\n",
       " 20.7: 1,\n",
       " 19.57: 1,\n",
       " 43.34: 1,\n",
       " 20.4: 1,\n",
       " 21.12: 1,\n",
       " 17.48: 1,\n",
       " 17.195: 1,\n",
       " 23.9: 1,\n",
       " 35.15: 1,\n",
       " 35.64: 1,\n",
       " 29.165: 1,\n",
       " 26.9: 1,\n",
       " 46.75: 1,\n",
       " 29.45: 1,\n",
       " 40.945: 1,\n",
       " 33.8: 1,\n",
       " 36.7: 1,\n",
       " 34.5: 1,\n",
       " 20.79: 1,\n",
       " 21.7: 1,\n",
       " 21.89: 1,\n",
       " 21.09: 1,\n",
       " 24.89: 1,\n",
       " 17.955: 1,\n",
       " 37.525: 1,\n",
       " 37.8: 1,\n",
       " 19.0: 1,\n",
       " 21.3: 1,\n",
       " 42.46: 1,\n",
       " 38.95: 1,\n",
       " 38.19: 1,\n",
       " 42.68: 1,\n",
       " 40.81: 1,\n",
       " 17.4: 1,\n",
       " 20.3: 1,\n",
       " 18.5: 1,\n",
       " 41.69: 1,\n",
       " 39.27: 1,\n",
       " 42.35: 1,\n",
       " 20.615: 1,\n",
       " 21.56: 1,\n",
       " 31.2: 1,\n",
       " 45.54: 1,\n",
       " 28.82: 1,\n",
       " 25.41: 1,\n",
       " 33.06: 1,\n",
       " 34.87: 1,\n",
       " 44.745: 1,\n",
       " 29.545: 1,\n",
       " 23.54: 1,\n",
       " 40.47: 1,\n",
       " 40.66: 1,\n",
       " 36.6: 1,\n",
       " 35.4: 1,\n",
       " 27.075: 1,\n",
       " 32.1: 1,\n",
       " 35.5: 1,\n",
       " 27.0: 1,\n",
       " 37.905: 1,\n",
       " 22.77: 1,\n",
       " 19.475: 1,\n",
       " 24.4: 1,\n",
       " 42.24: 1,\n",
       " 31.8: 1,\n",
       " 23.1: 1,\n",
       " 24.64: 1,\n",
       " 36.195: 1,\n",
       " 17.8: 1,\n",
       " 22.22: 1,\n",
       " 24.415: 1,\n",
       " 25.2: 1,\n",
       " 18.905: 1,\n",
       " 15.96: 1,\n",
       " 37.7: 1,\n",
       " 29.2: 1,\n",
       " 41.895: 1,\n",
       " 26.2: 1,\n",
       " 18.05: 1,\n",
       " 39.33: 1,\n",
       " 41.42: 1,\n",
       " 42.94: 1,\n",
       " 21.01: 1,\n",
       " 17.67: 1,\n",
       " 31.1: 1,\n",
       " 32.78: 1,\n",
       " 32.45: 1,\n",
       " 25.4: 1,\n",
       " 43.7: 1,\n",
       " 28.8: 1,\n",
       " 29.5: 1,\n",
       " 29.04: 1,\n",
       " 44.0: 1,\n",
       " 40.92: 1,\n",
       " 35.1: 1,\n",
       " 32.585: 1,\n",
       " 39.8: 1,\n",
       " 28.2: 1,\n",
       " 17.765: 1,\n",
       " 26.505: 1,\n",
       " 22.04: 1,\n",
       " 35.9: 1,\n",
       " 37.145: 1,\n",
       " 39.52: 1,\n",
       " 34.01: 1,\n",
       " 38.285: 1,\n",
       " 31.3: 1,\n",
       " 19.3: 1,\n",
       " 35.09: 1,\n",
       " 37.3: 1,\n",
       " 38.665: 1,\n",
       " 24.53: 1,\n",
       " 22.88: 1,\n",
       " 39.1: 1,\n",
       " 24.75: 1,\n",
       " 33.2: 1,\n",
       " 23.2: 1,\n",
       " 20.1: 1,\n",
       " 32.5: 1,\n",
       " 46.09: 1,\n",
       " 39.93: 1,\n",
       " 39.615: 1,\n",
       " 28.16: 1,\n",
       " 40.5: 1,\n",
       " 35.42: 1,\n",
       " 39.995: 1,\n",
       " 34.675: 1,\n",
       " 23.275: 1,\n",
       " 36.29: 1,\n",
       " 19.19: 1,\n",
       " 20.13: 1,\n",
       " 23.32: 1,\n",
       " 45.32: 1,\n",
       " 18.715: 1,\n",
       " 21.565: 1,\n",
       " 27.9: 1,\n",
       " 21.8: 1,\n",
       " 23.3: 1,\n",
       " 36.96: 1,\n",
       " 21.28: 1,\n",
       " 29.4: 1,\n",
       " 34.9: 1,\n",
       " 22.0: 1,\n",
       " 30.36: 1,\n",
       " 27.8: 1,\n",
       " 39.71: 1,\n",
       " 32.87: 1,\n",
       " 44.7: 1,\n",
       " 20.425: 1,\n",
       " 39.9: 1,\n",
       " 23.0: 1,\n",
       " 42.655: 1,\n",
       " 32.0: 1,\n",
       " 18.3: 1,\n",
       " 22.1: 1,\n",
       " 19.095: 1,\n",
       " 31.24: 1}"
      ]
     },
     "execution_count": 28,
     "metadata": {},
     "output_type": "execute_result"
    }
   ],
   "source": [
    "# control de la colonne bmi\n",
    "dict(data.bmi.value_counts())"
   ]
  },
  {
   "cell_type": "code",
   "execution_count": 29,
   "id": "5a665e76",
   "metadata": {},
   "outputs": [
    {
     "data": {
      "text/plain": [
       "<Axes: xlabel='bmi'>"
      ]
     },
     "execution_count": 29,
     "metadata": {},
     "output_type": "execute_result"
    },
    {
     "data": {
      "image/png": "[encoded data removed]",
      "text/plain": [
       "<Figure size 640x480 with 1 Axes>"
      ]
     },
     "metadata": {},
     "output_type": "display_data"
    }
   ],
   "source": [
    "sns.violinplot(data=data, x=\"bmi\")"
   ]
  },
  {
   "cell_type": "code",
   "execution_count": 30,
   "id": "c8fc340e",
   "metadata": {},
   "outputs": [
    {
     "data": {
      "text/plain": [
       "children\n",
       "0.0    578\n",
       "1.0    322\n",
       "2.0    238\n",
       "3.0    157\n",
       "4.0     24\n",
       "5.0     18\n",
       "Name: count, dtype: int64"
      ]
     },
     "execution_count": 30,
     "metadata": {},
     "output_type": "execute_result"
    }
   ],
   "source": [
    "# control de la colonne children\n",
    "data.children.value_counts()"
   ]
  },
  {
   "cell_type": "code",
   "execution_count": 31,
   "id": "bb4a42ba",
   "metadata": {},
   "outputs": [
    {
     "data": {
      "text/plain": [
       "<Axes: xlabel='children', ylabel='count'>"
      ]
     },
     "execution_count": 31,
     "metadata": {},
     "output_type": "execute_result"
    },
    {
     "data": {
      "image/png": "[encoded data removed]",
      "text/plain": [
       "<Figure size 640x480 with 1 Axes>"
      ]
     },
     "metadata": {},
     "output_type": "display_data"
    }
   ],
   "source": [
    "sns.countplot(data=data, x=\"children\")"
   ]
  },
  {
   "cell_type": "code",
   "execution_count": 32,
   "id": "757b4aa5",
   "metadata": {},
   "outputs": [
    {
     "data": {
      "text/plain": [
       "<Axes: xlabel='smoker', ylabel='count'>"
      ]
     },
     "execution_count": 32,
     "metadata": {},
     "output_type": "execute_result"
    },
    {
     "data": {
      "image/png": "[encoded data removed]",
      "text/plain": [
       "<Figure size 640x480 with 1 Axes>"
      ]
     },
     "metadata": {},
     "output_type": "display_data"
    }
   ],
   "source": [
    "# control de la colonne 'smoker' \n",
    "sns.countplot(data=data, x='smoker') # tres desequilibrees"
   ]
  },
  {
   "cell_type": "code",
   "execution_count": 33,
   "id": "8a65b731",
   "metadata": {},
   "outputs": [
    {
     "data": {
      "text/plain": [
       "<Axes: xlabel='region', ylabel='count'>"
      ]
     },
     "execution_count": 33,
     "metadata": {},
     "output_type": "execute_result"
    },
    {
     "data": {
      "image/png": "[encoded data removed]",
      "text/plain": [
       "<Figure size 640x480 with 1 Axes>"
      ]
     },
     "metadata": {},
     "output_type": "display_data"
    }
   ],
   "source": [
    "# control de la colonne region\n",
    "sns.countplot(data=data, x=\"region\")"
   ]
  },
  {
   "cell_type": "code",
   "execution_count": 34,
   "id": "efb6ae94",
   "metadata": {},
   "outputs": [
    {
     "data": {
      "text/plain": [
       "charges\n",
       "50000.00000    7\n",
       "19798.05455    1\n",
       "13063.88300    1\n",
       "13555.00490    1\n",
       "44202.65360    1\n",
       "              ..\n",
       "4738.26820     1\n",
       "2897.32350     1\n",
       "12592.53450    1\n",
       "5926.84600     1\n",
       "11454.02150    1\n",
       "Name: count, Length: 1331, dtype: int64"
      ]
     },
     "execution_count": 34,
     "metadata": {},
     "output_type": "execute_result"
    }
   ],
   "source": [
    "# control de la colonne charges\n",
    "data.charges.value_counts()"
   ]
  },
  {
   "cell_type": "code",
   "execution_count": 35,
   "id": "70d20721",
   "metadata": {},
   "outputs": [
    {
     "data": {
      "image/png": "[encoded data removed]",
      "text/plain": [
       "<Figure size 700x500 with 2 Axes>"
      ]
     },
     "metadata": {},
     "output_type": "display_data"
    }
   ],
   "source": [
    "# gestion des correlations\n",
    "_ = data.select_dtypes([\"int\", \"float\"])\n",
    "plt.figure(figsize=(7,5))\n",
    "plt.title(\"Matrice de correlation\")\n",
    "sns.heatmap(data=_.corr(), annot=True)\n",
    "plt.show()"
   ]
  },
  {
   "cell_type": "markdown",
   "id": "f797e58e",
   "metadata": {},
   "source": [
    "# Preparation des donnees pour le machine learning"
   ]
  },
  {
   "cell_type": "code",
   "execution_count": 36,
   "id": "dcf40e48",
   "metadata": {},
   "outputs": [
    {
     "data": {
      "application/vnd.microsoft.datawrangler.viewer.v0+json": {
       "columns": [
        {
         "name": "index",
         "rawType": "int64",
         "type": "integer"
        },
        {
         "name": "age",
         "rawType": "float64",
         "type": "float"
        },
        {
         "name": "sex",
         "rawType": "object",
         "type": "string"
        },
        {
         "name": "bmi",
         "rawType": "float64",
         "type": "float"
        },
        {
         "name": "children",
         "rawType": "float64",
         "type": "float"
        },
        {
         "name": "smoker",
         "rawType": "object",
         "type": "string"
        },
        {
         "name": "region",
         "rawType": "object",
         "type": "string"
        },
        {
         "name": "charges",
         "rawType": "float64",
         "type": "float"
        }
       ],
       "conversionMethod": "pd.DataFrame",
       "ref": "f796e748-095c-4acf-8241-8e0901da4b15",
       "rows": [
        [
         "0",
         "19.0",
         "female",
         "27.9",
         "0.0",
         "yes",
         "southwest",
         "16884.924"
        ],
        [
         "1",
         "18.0",
         "male",
         "33.77",
         "1.0",
         "no",
         "southeast",
         "1725.5523"
        ],
        [
         "2",
         "28.0",
         "male",
         "33.0",
         "3.0",
         "no",
         "southeast",
         "4449.462"
        ],
        [
         "3",
         "33.0",
         "male",
         "22.705",
         "0.0",
         "no",
         "northwest",
         "21984.47061"
        ],
        [
         "4",
         "32.0",
         "male",
         "28.88",
         "0.0",
         "no",
         "northwest",
         "3866.8552"
        ]
       ],
       "shape": {
        "columns": 7,
        "rows": 5
       }
      },
      "text/html": [
       "<div>\n",
       "<style scoped>\n",
       "    .dataframe tbody tr th:only-of-type {\n",
       "        vertical-align: middle;\n",
       "    }\n",
       "\n",
       "    .dataframe tbody tr th {\n",
       "        vertical-align: top;\n",
       "    }\n",
       "\n",
       "    .dataframe thead th {\n",
       "        text-align: right;\n",
       "    }\n",
       "</style>\n",
       "<table border=\"1\" class=\"dataframe\">\n",
       "  <thead>\n",
       "    <tr style=\"text-align: right;\">\n",
       "      <th></th>\n",
       "      <th>age</th>\n",
       "      <th>sex</th>\n",
       "      <th>bmi</th>\n",
       "      <th>children</th>\n",
       "      <th>smoker</th>\n",
       "      <th>region</th>\n",
       "      <th>charges</th>\n",
       "    </tr>\n",
       "  </thead>\n",
       "  <tbody>\n",
       "    <tr>\n",
       "      <th>0</th>\n",
       "      <td>19.0</td>\n",
       "      <td>female</td>\n",
       "      <td>27.900</td>\n",
       "      <td>0.0</td>\n",
       "      <td>yes</td>\n",
       "      <td>southwest</td>\n",
       "      <td>16884.92400</td>\n",
       "    </tr>\n",
       "    <tr>\n",
       "      <th>1</th>\n",
       "      <td>18.0</td>\n",
       "      <td>male</td>\n",
       "      <td>33.770</td>\n",
       "      <td>1.0</td>\n",
       "      <td>no</td>\n",
       "      <td>southeast</td>\n",
       "      <td>1725.55230</td>\n",
       "    </tr>\n",
       "    <tr>\n",
       "      <th>2</th>\n",
       "      <td>28.0</td>\n",
       "      <td>male</td>\n",
       "      <td>33.000</td>\n",
       "      <td>3.0</td>\n",
       "      <td>no</td>\n",
       "      <td>southeast</td>\n",
       "      <td>4449.46200</td>\n",
       "    </tr>\n",
       "    <tr>\n",
       "      <th>3</th>\n",
       "      <td>33.0</td>\n",
       "      <td>male</td>\n",
       "      <td>22.705</td>\n",
       "      <td>0.0</td>\n",
       "      <td>no</td>\n",
       "      <td>northwest</td>\n",
       "      <td>21984.47061</td>\n",
       "    </tr>\n",
       "    <tr>\n",
       "      <th>4</th>\n",
       "      <td>32.0</td>\n",
       "      <td>male</td>\n",
       "      <td>28.880</td>\n",
       "      <td>0.0</td>\n",
       "      <td>no</td>\n",
       "      <td>northwest</td>\n",
       "      <td>3866.85520</td>\n",
       "    </tr>\n",
       "  </tbody>\n",
       "</table>\n",
       "</div>"
      ],
      "text/plain": [
       "    age     sex     bmi  children smoker     region      charges\n",
       "0  19.0  female  27.900       0.0    yes  southwest  16884.92400\n",
       "1  18.0    male  33.770       1.0     no  southeast   1725.55230\n",
       "2  28.0    male  33.000       3.0     no  southeast   4449.46200\n",
       "3  33.0    male  22.705       0.0     no  northwest  21984.47061\n",
       "4  32.0    male  28.880       0.0     no  northwest   3866.85520"
      ]
     },
     "execution_count": 36,
     "metadata": {},
     "output_type": "execute_result"
    }
   ],
   "source": [
    "data.head()"
   ]
  },
  {
   "cell_type": "markdown",
   "id": "f36af16a",
   "metadata": {},
   "source": [
    "## gestion des colonnees categorielles"
   ]
  },
  {
   "cell_type": "code",
   "execution_count": 37,
   "id": "d2946ee4",
   "metadata": {},
   "outputs": [],
   "source": [
    "# gestion de la colonne sex\n",
    "data[\"sex\"] = data[\"sex\"].map({'male': 1, 'female': 0})"
   ]
  },
  {
   "cell_type": "code",
   "execution_count": 38,
   "id": "37f12d85",
   "metadata": {},
   "outputs": [],
   "source": [
    "# gestion de la colonne region\n",
    "\n",
    "# Création du mapping basé sur la fréquence\n",
    "region_frequency = data[\"region\"].value_counts(normalize=True)\n",
    "\n",
    "# Application du mapping pour encoder la colonne \"region\"\n",
    "data[\"region\"] = data[\"region\"].map(region_frequency)"
   ]
  },
  {
   "cell_type": "code",
   "execution_count": 39,
   "id": "246d77cb",
   "metadata": {},
   "outputs": [],
   "source": [
    "# gestion de la colonne smoker\n",
    "data[\"smoker\"] = data[\"smoker\"].map({'yes': 1, 'no': 0})"
   ]
  },
  {
   "cell_type": "code",
   "execution_count": 40,
   "id": "9d6689ee",
   "metadata": {},
   "outputs": [
    {
     "data": {
      "application/vnd.microsoft.datawrangler.viewer.v0+json": {
       "columns": [
        {
         "name": "index",
         "rawType": "int64",
         "type": "integer"
        },
        {
         "name": "age",
         "rawType": "float64",
         "type": "float"
        },
        {
         "name": "sex",
         "rawType": "int64",
         "type": "integer"
        },
        {
         "name": "bmi",
         "rawType": "float64",
         "type": "float"
        },
        {
         "name": "children",
         "rawType": "float64",
         "type": "float"
        },
        {
         "name": "smoker",
         "rawType": "int64",
         "type": "integer"
        },
        {
         "name": "region",
         "rawType": "float64",
         "type": "float"
        },
        {
         "name": "charges",
         "rawType": "float64",
         "type": "float"
        }
       ],
       "conversionMethod": "pd.DataFrame",
       "ref": "3a1ee5b7-39ef-4605-97c7-e8f551a53a15",
       "rows": [
        [
         "0",
         "19.0",
         "0",
         "27.9",
         "0.0",
         "1",
         "0.24308152580403888",
         "16884.924"
        ],
        [
         "1",
         "18.0",
         "1",
         "33.77",
         "1.0",
         "0",
         "0.27225130890052357",
         "1725.5523"
        ],
        [
         "2",
         "28.0",
         "1",
         "33.0",
         "3.0",
         "0",
         "0.27225130890052357",
         "4449.462"
        ],
        [
         "3",
         "33.0",
         "1",
         "22.705",
         "0.0",
         "0",
         "0.2423335826477188",
         "21984.47061"
        ],
        [
         "4",
         "32.0",
         "1",
         "28.88",
         "0.0",
         "0",
         "0.2423335826477188",
         "3866.8552"
        ]
       ],
       "shape": {
        "columns": 7,
        "rows": 5
       }
      },
      "text/html": [
       "<div>\n",
       "<style scoped>\n",
       "    .dataframe tbody tr th:only-of-type {\n",
       "        vertical-align: middle;\n",
       "    }\n",
       "\n",
       "    .dataframe tbody tr th {\n",
       "        vertical-align: top;\n",
       "    }\n",
       "\n",
       "    .dataframe thead th {\n",
       "        text-align: right;\n",
       "    }\n",
       "</style>\n",
       "<table border=\"1\" class=\"dataframe\">\n",
       "  <thead>\n",
       "    <tr style=\"text-align: right;\">\n",
       "      <th></th>\n",
       "      <th>age</th>\n",
       "      <th>sex</th>\n",
       "      <th>bmi</th>\n",
       "      <th>children</th>\n",
       "      <th>smoker</th>\n",
       "      <th>region</th>\n",
       "      <th>charges</th>\n",
       "    </tr>\n",
       "  </thead>\n",
       "  <tbody>\n",
       "    <tr>\n",
       "      <th>0</th>\n",
       "      <td>19.0</td>\n",
       "      <td>0</td>\n",
       "      <td>27.900</td>\n",
       "      <td>0.0</td>\n",
       "      <td>1</td>\n",
       "      <td>0.243082</td>\n",
       "      <td>16884.92400</td>\n",
       "    </tr>\n",
       "    <tr>\n",
       "      <th>1</th>\n",
       "      <td>18.0</td>\n",
       "      <td>1</td>\n",
       "      <td>33.770</td>\n",
       "      <td>1.0</td>\n",
       "      <td>0</td>\n",
       "      <td>0.272251</td>\n",
       "      <td>1725.55230</td>\n",
       "    </tr>\n",
       "    <tr>\n",
       "      <th>2</th>\n",
       "      <td>28.0</td>\n",
       "      <td>1</td>\n",
       "      <td>33.000</td>\n",
       "      <td>3.0</td>\n",
       "      <td>0</td>\n",
       "      <td>0.272251</td>\n",
       "      <td>4449.46200</td>\n",
       "    </tr>\n",
       "    <tr>\n",
       "      <th>3</th>\n",
       "      <td>33.0</td>\n",
       "      <td>1</td>\n",
       "      <td>22.705</td>\n",
       "      <td>0.0</td>\n",
       "      <td>0</td>\n",
       "      <td>0.242334</td>\n",
       "      <td>21984.47061</td>\n",
       "    </tr>\n",
       "    <tr>\n",
       "      <th>4</th>\n",
       "      <td>32.0</td>\n",
       "      <td>1</td>\n",
       "      <td>28.880</td>\n",
       "      <td>0.0</td>\n",
       "      <td>0</td>\n",
       "      <td>0.242334</td>\n",
       "      <td>3866.85520</td>\n",
       "    </tr>\n",
       "  </tbody>\n",
       "</table>\n",
       "</div>"
      ],
      "text/plain": [
       "    age  sex     bmi  children  smoker    region      charges\n",
       "0  19.0    0  27.900       0.0       1  0.243082  16884.92400\n",
       "1  18.0    1  33.770       1.0       0  0.272251   1725.55230\n",
       "2  28.0    1  33.000       3.0       0  0.272251   4449.46200\n",
       "3  33.0    1  22.705       0.0       0  0.242334  21984.47061\n",
       "4  32.0    1  28.880       0.0       0  0.242334   3866.85520"
      ]
     },
     "execution_count": 40,
     "metadata": {},
     "output_type": "execute_result"
    }
   ],
   "source": [
    "data.head()"
   ]
  },
  {
   "cell_type": "code",
   "execution_count": 41,
   "id": "12b7bf00",
   "metadata": {},
   "outputs": [
    {
     "data": {
      "text/plain": [
       "region\n",
       "0.242334    648\n",
       "0.272251    364\n",
       "0.243082    325\n",
       "Name: count, dtype: int64"
      ]
     },
     "execution_count": 41,
     "metadata": {},
     "output_type": "execute_result"
    }
   ],
   "source": [
    "data.region.value_counts()"
   ]
  },
  {
   "cell_type": "markdown",
   "id": "ba2c993c",
   "metadata": {},
   "source": [
    "# Sauvegarder les donnees nettoyer"
   ]
  },
  {
   "cell_type": "code",
   "execution_count": 44,
   "id": "eea6844b",
   "metadata": {},
   "outputs": [],
   "source": [
    "data.to_csv(\"Clean_Medicl_cost.csv\", index=False)"
   ]
  }
 ],
 "metadata": {
  "kernelspec": {
   "display_name": "machineLearning",
   "language": "python",
   "name": "python3"
  },
  "language_info": {
   "codemirror_mode": {
    "name": "ipython",
    "version": 3
   },
   "file_extension": ".py",
   "mimetype": "text/x-python",
   "name": "python",
   "nbconvert_exporter": "python",
   "pygments_lexer": "ipython3",
   "version": "3.10.0"
  }
 },
 "nbformat": 4,
 "nbformat_minor": 5
}
