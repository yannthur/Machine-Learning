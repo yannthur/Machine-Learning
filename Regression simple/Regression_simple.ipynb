{
 "cells": [
  {
   "cell_type": "code",
   "execution_count": 3,
   "id": "11f36e1c",
   "metadata": {},
   "outputs": [],
   "source": [
    "# Import libraries\n",
    "import numpy as np\n",
    "import pandas as pd\n",
    "import matplotlib.pyplot as plt\n",
    "import seaborn as sns"
   ]
  },
  {
   "cell_type": "markdown",
   "id": "408c39d9",
   "metadata": {},
   "source": [
    "# Preprocessing"
   ]
  },
  {
   "cell_type": "code",
   "execution_count": 4,
   "id": "5acac5b2",
   "metadata": {},
   "outputs": [
    {
     "data": {
      "application/vnd.microsoft.datawrangler.viewer.v0+json": {
       "columns": [
        {
         "name": "index",
         "rawType": "int64",
         "type": "integer"
        },
        {
         "name": "Temperature",
         "rawType": "float64",
         "type": "float"
        },
        {
         "name": "Revenue",
         "rawType": "float64",
         "type": "float"
        }
       ],
       "conversionMethod": "pd.DataFrame",
       "ref": "e839d477-1d9f-4818-99fa-5dcfbca9146d",
       "rows": [
        [
         "0",
         "24.56688442",
         "534.7990284"
        ],
        [
         "1",
         "26.00519115",
         "625.1901215"
        ],
        [
         "2",
         "27.79055388",
         "660.6322888"
        ],
        [
         "3",
         "20.59533505",
         "487.7069603"
        ],
        [
         "4",
         "11.50349764",
         "316.2401944"
        ]
       ],
       "shape": {
        "columns": 2,
        "rows": 5
       }
      },
      "text/html": [
       "<div>\n",
       "<style scoped>\n",
       "    .dataframe tbody tr th:only-of-type {\n",
       "        vertical-align: middle;\n",
       "    }\n",
       "\n",
       "    .dataframe tbody tr th {\n",
       "        vertical-align: top;\n",
       "    }\n",
       "\n",
       "    .dataframe thead th {\n",
       "        text-align: right;\n",
       "    }\n",
       "</style>\n",
       "<table border=\"1\" class=\"dataframe\">\n",
       "  <thead>\n",
       "    <tr style=\"text-align: right;\">\n",
       "      <th></th>\n",
       "      <th>Temperature</th>\n",
       "      <th>Revenue</th>\n",
       "    </tr>\n",
       "  </thead>\n",
       "  <tbody>\n",
       "    <tr>\n",
       "      <th>0</th>\n",
       "      <td>24.566884</td>\n",
       "      <td>534.799028</td>\n",
       "    </tr>\n",
       "    <tr>\n",
       "      <th>1</th>\n",
       "      <td>26.005191</td>\n",
       "      <td>625.190122</td>\n",
       "    </tr>\n",
       "    <tr>\n",
       "      <th>2</th>\n",
       "      <td>27.790554</td>\n",
       "      <td>660.632289</td>\n",
       "    </tr>\n",
       "    <tr>\n",
       "      <th>3</th>\n",
       "      <td>20.595335</td>\n",
       "      <td>487.706960</td>\n",
       "    </tr>\n",
       "    <tr>\n",
       "      <th>4</th>\n",
       "      <td>11.503498</td>\n",
       "      <td>316.240194</td>\n",
       "    </tr>\n",
       "  </tbody>\n",
       "</table>\n",
       "</div>"
      ],
      "text/plain": [
       "   Temperature     Revenue\n",
       "0    24.566884  534.799028\n",
       "1    26.005191  625.190122\n",
       "2    27.790554  660.632289\n",
       "3    20.595335  487.706960\n",
       "4    11.503498  316.240194"
      ]
     },
     "execution_count": 4,
     "metadata": {},
     "output_type": "execute_result"
    }
   ],
   "source": [
    "# Data loading\n",
    "data = pd.read_csv(\"IceCreamData.csv\")\n",
    "data.head()"
   ]
  },
  {
   "cell_type": "code",
   "execution_count": 5,
   "id": "f1225b32",
   "metadata": {},
   "outputs": [
    {
     "data": {
      "application/vnd.microsoft.datawrangler.viewer.v0+json": {
       "columns": [
        {
         "name": "index",
         "rawType": "int64",
         "type": "integer"
        },
        {
         "name": "Temperature",
         "rawType": "float64",
         "type": "float"
        },
        {
         "name": "Revenue",
         "rawType": "float64",
         "type": "float"
        }
       ],
       "conversionMethod": "pd.DataFrame",
       "ref": "f23b029d-117e-4999-8690-78f482bcf67b",
       "rows": [],
       "shape": {
        "columns": 2,
        "rows": 0
       }
      },
      "text/html": [
       "<div>\n",
       "<style scoped>\n",
       "    .dataframe tbody tr th:only-of-type {\n",
       "        vertical-align: middle;\n",
       "    }\n",
       "\n",
       "    .dataframe tbody tr th {\n",
       "        vertical-align: top;\n",
       "    }\n",
       "\n",
       "    .dataframe thead th {\n",
       "        text-align: right;\n",
       "    }\n",
       "</style>\n",
       "<table border=\"1\" class=\"dataframe\">\n",
       "  <thead>\n",
       "    <tr style=\"text-align: right;\">\n",
       "      <th></th>\n",
       "      <th>Temperature</th>\n",
       "      <th>Revenue</th>\n",
       "    </tr>\n",
       "  </thead>\n",
       "  <tbody>\n",
       "  </tbody>\n",
       "</table>\n",
       "</div>"
      ],
      "text/plain": [
       "Empty DataFrame\n",
       "Columns: [Temperature, Revenue]\n",
       "Index: []"
      ]
     },
     "execution_count": 5,
     "metadata": {},
     "output_type": "execute_result"
    }
   ],
   "source": [
    "# Check for duplicate rows\n",
    "data[data.duplicated()]  # No duplicate rows"
   ]
  },
  {
   "cell_type": "code",
   "execution_count": 6,
   "id": "e7be0578",
   "metadata": {},
   "outputs": [
    {
     "data": {
      "application/vnd.microsoft.datawrangler.viewer.v0+json": {
       "columns": [
        {
         "name": "index",
         "rawType": "object",
         "type": "string"
        },
        {
         "name": "Temperature",
         "rawType": "float64",
         "type": "float"
        },
        {
         "name": "Revenue",
         "rawType": "float64",
         "type": "float"
        }
       ],
       "conversionMethod": "pd.DataFrame",
       "ref": "c3cd8d80-36c7-46df-bd4d-76b025e3d086",
       "rows": [
        [
         "count",
         "500.0",
         "500.0"
        ],
        [
         "mean",
         "22.232225113404002",
         "521.57077669154"
        ],
        [
         "std",
         "8.096387538573685",
         "175.40475081921585"
        ],
        [
         "min",
         "0.0",
         "10.0"
        ],
        [
         "25%",
         "17.122257677500002",
         "405.558681125"
        ],
        [
         "50%",
         "22.392790509999998",
         "529.36856475"
        ],
        [
         "75%",
         "27.7406742975",
         "642.2579215999999"
        ],
        [
         "max",
         "45.0",
         "1000.0"
        ]
       ],
       "shape": {
        "columns": 2,
        "rows": 8
       }
      },
      "text/html": [
       "<div>\n",
       "<style scoped>\n",
       "    .dataframe tbody tr th:only-of-type {\n",
       "        vertical-align: middle;\n",
       "    }\n",
       "\n",
       "    .dataframe tbody tr th {\n",
       "        vertical-align: top;\n",
       "    }\n",
       "\n",
       "    .dataframe thead th {\n",
       "        text-align: right;\n",
       "    }\n",
       "</style>\n",
       "<table border=\"1\" class=\"dataframe\">\n",
       "  <thead>\n",
       "    <tr style=\"text-align: right;\">\n",
       "      <th></th>\n",
       "      <th>Temperature</th>\n",
       "      <th>Revenue</th>\n",
       "    </tr>\n",
       "  </thead>\n",
       "  <tbody>\n",
       "    <tr>\n",
       "      <th>count</th>\n",
       "      <td>500.000000</td>\n",
       "      <td>500.000000</td>\n",
       "    </tr>\n",
       "    <tr>\n",
       "      <th>mean</th>\n",
       "      <td>22.232225</td>\n",
       "      <td>521.570777</td>\n",
       "    </tr>\n",
       "    <tr>\n",
       "      <th>std</th>\n",
       "      <td>8.096388</td>\n",
       "      <td>175.404751</td>\n",
       "    </tr>\n",
       "    <tr>\n",
       "      <th>min</th>\n",
       "      <td>0.000000</td>\n",
       "      <td>10.000000</td>\n",
       "    </tr>\n",
       "    <tr>\n",
       "      <th>25%</th>\n",
       "      <td>17.122258</td>\n",
       "      <td>405.558681</td>\n",
       "    </tr>\n",
       "    <tr>\n",
       "      <th>50%</th>\n",
       "      <td>22.392791</td>\n",
       "      <td>529.368565</td>\n",
       "    </tr>\n",
       "    <tr>\n",
       "      <th>75%</th>\n",
       "      <td>27.740674</td>\n",
       "      <td>642.257922</td>\n",
       "    </tr>\n",
       "    <tr>\n",
       "      <th>max</th>\n",
       "      <td>45.000000</td>\n",
       "      <td>1000.000000</td>\n",
       "    </tr>\n",
       "  </tbody>\n",
       "</table>\n",
       "</div>"
      ],
      "text/plain": [
       "       Temperature      Revenue\n",
       "count   500.000000   500.000000\n",
       "mean     22.232225   521.570777\n",
       "std       8.096388   175.404751\n",
       "min       0.000000    10.000000\n",
       "25%      17.122258   405.558681\n",
       "50%      22.392791   529.368565\n",
       "75%      27.740674   642.257922\n",
       "max      45.000000  1000.000000"
      ]
     },
     "execution_count": 6,
     "metadata": {},
     "output_type": "execute_result"
    }
   ],
   "source": [
    "# Check for missing values\n",
    "data.describe()  # No missing data"
   ]
  },
  {
   "cell_type": "code",
   "execution_count": 7,
   "id": "7568b99d",
   "metadata": {},
   "outputs": [
    {
     "data": {
      "text/plain": [
       "Temperature    float64\n",
       "Revenue        float64\n",
       "dtype: object"
      ]
     },
     "execution_count": 7,
     "metadata": {},
     "output_type": "execute_result"
    }
   ],
   "source": [
    "# Check data types\n",
    "data.dtypes"
   ]
  },
  {
   "cell_type": "code",
   "execution_count": 8,
   "id": "0a7f587f",
   "metadata": {},
   "outputs": [
    {
     "data": {
      "image/png": "[encoded data removed]",
      "text/plain": [
       "<Figure size 1000x700 with 1 Axes>"
      ]
     },
     "metadata": {},
     "output_type": "display_data"
    }
   ],
   "source": [
    "# Outlier detection\n",
    "plt.figure(figsize=(10,7))\n",
    "sns.boxplot(data=data[\"Revenue\"])\n",
    "plt.show()"
   ]
  },
  {
   "cell_type": "code",
   "execution_count": 9,
   "id": "226a9aa8",
   "metadata": {},
   "outputs": [
    {
     "data": {
      "image/png": "[encoded data removed]",
      "text/plain": [
       "<Figure size 1000x700 with 1 Axes>"
      ]
     },
     "metadata": {},
     "output_type": "display_data"
    }
   ],
   "source": [
    "plt.figure(figsize=(10,7))\n",
    "sns.boxplot(data=data[\"Temperature\"])\n",
    "plt.show()"
   ]
  },
  {
   "cell_type": "code",
   "execution_count": 10,
   "id": "08c8f51e",
   "metadata": {},
   "outputs": [
    {
     "name": "stdout",
     "output_type": "stream",
     "text": [
      "Column: Temperature\n",
      "Outliers percentage: 0.80%\n",
      "Column: Revenue\n",
      "Outliers percentage: 0.60%\n"
     ]
    }
   ],
   "source": [
    "# Identify outliers for each column\n",
    "outliers_info = {}\n",
    "for column in data.columns:\n",
    "    Q1 = data[column].quantile(0.25)\n",
    "    Q3 = data[column].quantile(0.75)\n",
    "    IQR = Q3 - Q1\n",
    "    lower_bound = Q1 - 1.5 * IQR\n",
    "    upper_bound = Q3 + 1.5 * IQR\n",
    "\n",
    "    # Filter outliers\n",
    "    outlier_rows = data[(data[column] < lower_bound) | (data[column] > upper_bound)]\n",
    "    proportion = len(outlier_rows) / len(data) * 100\n",
    "    outliers_info[column] = {'rows': outlier_rows, 'proportion': proportion}\n",
    "\n",
    "    print(f\"Column: {column}\")\n",
    "    print(f\"Outliers percentage: {proportion:.2f}%\")"
   ]
  },
  {
   "cell_type": "code",
   "execution_count": 11,
   "id": "f3c5aba2",
   "metadata": {},
   "outputs": [
    {
     "name": "stdout",
     "output_type": "stream",
     "text": [
      "Overall data loss rate: 0.80%\n"
     ]
    }
   ],
   "source": [
    "# Remove rows containing outliers\n",
    "data_cleaned = data.copy()\n",
    "for column in data.columns:\n",
    "    Q1 = data[column].quantile(0.25)\n",
    "    Q3 = data[column].quantile(0.75)\n",
    "    IQR = Q3 - Q1\n",
    "    lower_bound = Q1 - 1.5 * IQR\n",
    "    upper_bound = Q3 + 1.5 * IQR\n",
    "\n",
    "    # Remove outliers\n",
    "    data_cleaned = data_cleaned[(data_cleaned[column] >= lower_bound) & (data_cleaned[column] <= upper_bound)]\n",
    "\n",
    "# Calculate overall data loss rate\n",
    "loss_rate = (1 - len(data_cleaned) / len(data)) * 100\n",
    "print(f\"Overall data loss rate: {loss_rate:.2f}%\")"
   ]
  },
  {
   "cell_type": "code",
   "execution_count": 12,
   "id": "8e7da580",
   "metadata": {},
   "outputs": [
    {
     "data": {
      "image/png": "[encoded data removed]",
      "text/plain": [
       "<Figure size 1000x700 with 1 Axes>"
      ]
     },
     "metadata": {},
     "output_type": "display_data"
    }
   ],
   "source": [
    "# Check for outliers again\n",
    "plt.figure(figsize=(10,7))\n",
    "sns.boxplot(data=data_cleaned[\"Revenue\"])\n",
    "plt.show()"
   ]
  },
  {
   "cell_type": "code",
   "execution_count": 13,
   "id": "9b3abe46",
   "metadata": {},
   "outputs": [
    {
     "data": {
      "image/png": "[encoded data removed]",
      "text/plain": [
       "<Figure size 1000x700 with 1 Axes>"
      ]
     },
     "metadata": {},
     "output_type": "display_data"
    }
   ],
   "source": [
    "plt.figure(figsize=(10,7))\n",
    "sns.boxplot(data=data_cleaned[\"Temperature\"])\n",
    "plt.show()"
   ]
  },
  {
   "cell_type": "code",
   "execution_count": 14,
   "id": "d00d8887",
   "metadata": {},
   "outputs": [],
   "source": [
    "data = data_cleaned"
   ]
  },
  {
   "cell_type": "markdown",
   "id": "967bd273",
   "metadata": {},
   "source": [
    "# Data visualization"
   ]
  },
  {
   "cell_type": "code",
   "execution_count": null,
   "id": "e5242308",
   "metadata": {},
   "outputs": [
    {
     "data": {
      "text/plain": [
       "<seaborn.axisgrid.PairGrid at 0x79987244a0b0>"
      ]
     },
     "execution_count": 15,
     "metadata": {},
     "output_type": "execute_result"
    },
    {
     "data": {
      "image/png": "[encoded data removed]",
      "text/plain": [
       "<Figure size 500x500 with 6 Axes>"
      ]
     },
     "metadata": {},
     "output_type": "display_data"
    }
   ],
   "source": [
    "# General overview\n",
    "sns.pairplot(data)"
   ]
  },
  {
   "cell_type": "code",
   "execution_count": 16,
   "id": "683df1e8",
   "metadata": {},
   "outputs": [
    {
     "data": {
      "text/plain": [
       "<Axes: xlabel='Revenue', ylabel='Temperature'>"
      ]
     },
     "execution_count": 16,
     "metadata": {},
     "output_type": "execute_result"
    },
    {
     "data": {
      "image/png": "[encoded data removed]",
      "text/plain": [
       "<Figure size 640x480 with 1 Axes>"
      ]
     },
     "metadata": {},
     "output_type": "display_data"
    }
   ],
   "source": [
    "# Visualize the relationship\n",
    "sns.scatterplot(data=data, x=\"Revenue\", y=\"Temperature\")"
   ]
  },
  {
   "cell_type": "code",
   "execution_count": 17,
   "id": "a7c0418b",
   "metadata": {},
   "outputs": [
    {
     "data": {
      "text/plain": [
       "<Axes: xlabel='Revenue', ylabel='Temperature'>"
      ]
     },
     "execution_count": 17,
     "metadata": {},
     "output_type": "execute_result"
    },
    {
     "data": {
      "image/png": "[encoded data removed]",
      "text/plain": [
       "<Figure size 640x480 with 1 Axes>"
      ]
     },
     "metadata": {},
     "output_type": "display_data"
    }
   ],
   "source": [
    "# Visualize the regression line\n",
    "sns.regplot(data=data, x='Revenue', y=\"Temperature\", line_kws={'color': 'red'})"
   ]
  },
  {
   "cell_type": "markdown",
   "id": "ebdbd64f",
   "metadata": {},
   "source": [
    "# Regression model creation"
   ]
  },
  {
   "cell_type": "code",
   "execution_count": null,
   "id": "334c85a5",
   "metadata": {},
   "outputs": [],
   "source": [
    "# Separate target and features\n",
    "X = data.drop([\"Revenue\"], axis=1)\n",
    "y = data[[\"Revenue\"]]"
   ]
  },
  {
   "cell_type": "code",
   "execution_count": 19,
   "id": "9bf8d9f1",
   "metadata": {},
   "outputs": [],
   "source": [
    "# Train-test split\n",
    "from sklearn.model_selection import train_test_split\n",
    "X_train, X_test, y_train, y_test = train_test_split(X, y, test_size=0.25, random_state=123, shuffle=True)"
   ]
  },
  {
   "cell_type": "code",
   "execution_count": 20,
   "id": "9a1eb42d",
   "metadata": {},
   "outputs": [
    {
     "data": {
      "text/html": [
       "<style>#sk-container-id-1 {\n",
       "  /* Definition of color scheme common for light and dark mode */\n",
       "  --sklearn-color-text: black;\n",
       "  --sklearn-color-line: gray;\n",
       "  /* Definition of color scheme for unfitted estimators */\n",
       "  --sklearn-color-unfitted-level-0: #fff5e6;\n",
       "  --sklearn-color-unfitted-level-1: #f6e4d2;\n",
       "  --sklearn-color-unfitted-level-2: #ffe0b3;\n",
       "  --sklearn-color-unfitted-level-3: chocolate;\n",
       "  /* Definition of color scheme for fitted estimators */\n",
       "  --sklearn-color-fitted-level-0: #f0f8ff;\n",
       "  --sklearn-color-fitted-level-1: #d4ebff;\n",
       "  --sklearn-color-fitted-level-2: #b3dbfd;\n",
       "  --sklearn-color-fitted-level-3: cornflowerblue;\n",
       "\n",
       "  /* Specific color for light theme */\n",
       "  --sklearn-color-text-on-default-background: var(--sg-text-color, var(--theme-code-foreground, var(--jp-content-font-color1, black)));\n",
       "  --sklearn-color-background: var(--sg-background-color, var(--theme-background, var(--jp-layout-color0, white)));\n",
       "  --sklearn-color-border-box: var(--sg-text-color, var(--theme-code-foreground, var(--jp-content-font-color1, black)));\n",
       "  --sklearn-color-icon: #696969;\n",
       "\n",
       "  @media (prefers-color-scheme: dark) {\n",
       "    /* Redefinition of color scheme for dark theme */\n",
       "    --sklearn-color-text-on-default-background: var(--sg-text-color, var(--theme-code-foreground, var(--jp-content-font-color1, white)));\n",
       "    --sklearn-color-background: var(--sg-background-color, var(--theme-background, var(--jp-layout-color0, #111)));\n",
       "    --sklearn-color-border-box: var(--sg-text-color, var(--theme-code-foreground, var(--jp-content-font-color1, white)));\n",
       "    --sklearn-color-icon: #878787;\n",
       "  }\n",
       "}\n",
       "\n",
       "#sk-container-id-1 {\n",
       "  color: var(--sklearn-color-text);\n",
       "}\n",
       "\n",
       "#sk-container-id-1 pre {\n",
       "  padding: 0;\n",
       "}\n",
       "\n",
       "#sk-container-id-1 input.sk-hidden--visually {\n",
       "  border: 0;\n",
       "  clip: rect(1px 1px 1px 1px);\n",
       "  clip: rect(1px, 1px, 1px, 1px);\n",
       "  height: 1px;\n",
       "  margin: -1px;\n",
       "  overflow: hidden;\n",
       "  padding: 0;\n",
       "  position: absolute;\n",
       "  width: 1px;\n",
       "}\n",
       "\n",
       "#sk-container-id-1 div.sk-dashed-wrapped {\n",
       "  border: 1px dashed var(--sklearn-color-line);\n",
       "  margin: 0 0.4em 0.5em 0.4em;\n",
       "  box-sizing: border-box;\n",
       "  padding-bottom: 0.4em;\n",
       "  background-color: var(--sklearn-color-background);\n",
       "}\n",
       "\n",
       "#sk-container-id-1 div.sk-container {\n",
       "  /* jupyter's `normalize.less` sets `[hidden] { display: none; }`\n",
       "     but bootstrap.min.css set `[hidden] { display: none !important; }`\n",
       "     so we also need the `!important` here to be able to override the\n",
       "     default hidden behavior on the sphinx rendered scikit-learn.org.\n",
       "     See: https://github.com/scikit-learn/scikit-learn/issues/21755 */\n",
       "  display: inline-block !important;\n",
       "  position: relative;\n",
       "}\n",
       "\n",
       "#sk-container-id-1 div.sk-text-repr-fallback {\n",
       "  display: none;\n",
       "}\n",
       "\n",
       "div.sk-parallel-item,\n",
       "div.sk-serial,\n",
       "div.sk-item {\n",
       "  /* draw centered vertical line to link estimators */\n",
       "  background-image: linear-gradient(var(--sklearn-color-text-on-default-background), var(--sklearn-color-text-on-default-background));\n",
       "  background-size: 2px 100%;\n",
       "  background-repeat: no-repeat;\n",
       "  background-position: center center;\n",
       "}\n",
       "\n",
       "/* Parallel-specific style estimator block */\n",
       "\n",
       "#sk-container-id-1 div.sk-parallel-item::after {\n",
       "  content: \"\";\n",
       "  width: 100%;\n",
       "  border-bottom: 2px solid var(--sklearn-color-text-on-default-background);\n",
       "  flex-grow: 1;\n",
       "}\n",
       "\n",
       "#sk-container-id-1 div.sk-parallel {\n",
       "  display: flex;\n",
       "  align-items: stretch;\n",
       "  justify-content: center;\n",
       "  background-color: var(--sklearn-color-background);\n",
       "  position: relative;\n",
       "}\n",
       "\n",
       "#sk-container-id-1 div.sk-parallel-item {\n",
       "  display: flex;\n",
       "  flex-direction: column;\n",
       "}\n",
       "\n",
       "#sk-container-id-1 div.sk-parallel-item:first-child::after {\n",
       "  align-self: flex-end;\n",
       "  width: 50%;\n",
       "}\n",
       "\n",
       "#sk-container-id-1 div.sk-parallel-item:last-child::after {\n",
       "  align-self: flex-start;\n",
       "  width: 50%;\n",
       "}\n",
       "\n",
       "#sk-container-id-1 div.sk-parallel-item:only-child::after {\n",
       "  width: 0;\n",
       "}\n",
       "\n",
       "/* Serial-specific style estimator block */\n",
       "\n",
       "#sk-container-id-1 div.sk-serial {\n",
       "  display: flex;\n",
       "  flex-direction: column;\n",
       "  align-items: center;\n",
       "  background-color: var(--sklearn-color-background);\n",
       "  padding-right: 1em;\n",
       "  padding-left: 1em;\n",
       "}\n",
       "\n",
       "\n",
       "/* Toggleable style: style used for estimator/Pipeline/ColumnTransformer box that is\n",
       "clickable and can be expanded/collapsed.\n",
       "- Pipeline and ColumnTransformer use this feature and define the default style\n",
       "- Estimators will overwrite some part of the style using the `sk-estimator` class\n",
       "*/\n",
       "\n",
       "/* Pipeline and ColumnTransformer style (default) */\n",
       "\n",
       "#sk-container-id-1 div.sk-toggleable {\n",
       "  /* Default theme specific background. It is overwritten whether we have a\n",
       "  specific estimator or a Pipeline/ColumnTransformer */\n",
       "  background-color: var(--sklearn-color-background);\n",
       "}\n",
       "\n",
       "/* Toggleable label */\n",
       "#sk-container-id-1 label.sk-toggleable__label {\n",
       "  cursor: pointer;\n",
       "  display: block;\n",
       "  width: 100%;\n",
       "  margin-bottom: 0;\n",
       "  padding: 0.5em;\n",
       "  box-sizing: border-box;\n",
       "  text-align: center;\n",
       "}\n",
       "\n",
       "#sk-container-id-1 label.sk-toggleable__label-arrow:before {\n",
       "  /* Arrow on the left of the label */\n",
       "  content: \"▸\";\n",
       "  float: left;\n",
       "  margin-right: 0.25em;\n",
       "  color: var(--sklearn-color-icon);\n",
       "}\n",
       "\n",
       "#sk-container-id-1 label.sk-toggleable__label-arrow:hover:before {\n",
       "  color: var(--sklearn-color-text);\n",
       "}\n",
       "\n",
       "/* Toggleable content - dropdown */\n",
       "\n",
       "#sk-container-id-1 div.sk-toggleable__content {\n",
       "  max-height: 0;\n",
       "  max-width: 0;\n",
       "  overflow: hidden;\n",
       "  text-align: left;\n",
       "  /* unfitted */\n",
       "  background-color: var(--sklearn-color-unfitted-level-0);\n",
       "}\n",
       "\n",
       "#sk-container-id-1 div.sk-toggleable__content.fitted {\n",
       "  /* fitted */\n",
       "  background-color: var(--sklearn-color-fitted-level-0);\n",
       "}\n",
       "\n",
       "#sk-container-id-1 div.sk-toggleable__content pre {\n",
       "  margin: 0.2em;\n",
       "  border-radius: 0.25em;\n",
       "  color: var(--sklearn-color-text);\n",
       "  /* unfitted */\n",
       "  background-color: var(--sklearn-color-unfitted-level-0);\n",
       "}\n",
       "\n",
       "#sk-container-id-1 div.sk-toggleable__content.fitted pre {\n",
       "  /* unfitted */\n",
       "  background-color: var(--sklearn-color-fitted-level-0);\n",
       "}\n",
       "\n",
       "#sk-container-id-1 input.sk-toggleable__control:checked~div.sk-toggleable__content {\n",
       "  /* Expand drop-down */\n",
       "  max-height: 200px;\n",
       "  max-width: 100%;\n",
       "  overflow: auto;\n",
       "}\n",
       "\n",
       "#sk-container-id-1 input.sk-toggleable__control:checked~label.sk-toggleable__label-arrow:before {\n",
       "  content: \"▾\";\n",
       "}\n",
       "\n",
       "/* Pipeline/ColumnTransformer-specific style */\n",
       "\n",
       "#sk-container-id-1 div.sk-label input.sk-toggleable__control:checked~label.sk-toggleable__label {\n",
       "  color: var(--sklearn-color-text);\n",
       "  background-color: var(--sklearn-color-unfitted-level-2);\n",
       "}\n",
       "\n",
       "#sk-container-id-1 div.sk-label.fitted input.sk-toggleable__control:checked~label.sk-toggleable__label {\n",
       "  background-color: var(--sklearn-color-fitted-level-2);\n",
       "}\n",
       "\n",
       "/* Estimator-specific style */\n",
       "\n",
       "/* Colorize estimator box */\n",
       "#sk-container-id-1 div.sk-estimator input.sk-toggleable__control:checked~label.sk-toggleable__label {\n",
       "  /* unfitted */\n",
       "  background-color: var(--sklearn-color-unfitted-level-2);\n",
       "}\n",
       "\n",
       "#sk-container-id-1 div.sk-estimator.fitted input.sk-toggleable__control:checked~label.sk-toggleable__label {\n",
       "  /* fitted */\n",
       "  background-color: var(--sklearn-color-fitted-level-2);\n",
       "}\n",
       "\n",
       "#sk-container-id-1 div.sk-label label.sk-toggleable__label,\n",
       "#sk-container-id-1 div.sk-label label {\n",
       "  /* The background is the default theme color */\n",
       "  color: var(--sklearn-color-text-on-default-background);\n",
       "}\n",
       "\n",
       "/* On hover, darken the color of the background */\n",
       "#sk-container-id-1 div.sk-label:hover label.sk-toggleable__label {\n",
       "  color: var(--sklearn-color-text);\n",
       "  background-color: var(--sklearn-color-unfitted-level-2);\n",
       "}\n",
       "\n",
       "/* Label box, darken color on hover, fitted */\n",
       "#sk-container-id-1 div.sk-label.fitted:hover label.sk-toggleable__label.fitted {\n",
       "  color: var(--sklearn-color-text);\n",
       "  background-color: var(--sklearn-color-fitted-level-2);\n",
       "}\n",
       "\n",
       "/* Estimator label */\n",
       "\n",
       "#sk-container-id-1 div.sk-label label {\n",
       "  font-family: monospace;\n",
       "  font-weight: bold;\n",
       "  display: inline-block;\n",
       "  line-height: 1.2em;\n",
       "}\n",
       "\n",
       "#sk-container-id-1 div.sk-label-container {\n",
       "  text-align: center;\n",
       "}\n",
       "\n",
       "/* Estimator-specific */\n",
       "#sk-container-id-1 div.sk-estimator {\n",
       "  font-family: monospace;\n",
       "  border: 1px dotted var(--sklearn-color-border-box);\n",
       "  border-radius: 0.25em;\n",
       "  box-sizing: border-box;\n",
       "  margin-bottom: 0.5em;\n",
       "  /* unfitted */\n",
       "  background-color: var(--sklearn-color-unfitted-level-0);\n",
       "}\n",
       "\n",
       "#sk-container-id-1 div.sk-estimator.fitted {\n",
       "  /* fitted */\n",
       "  background-color: var(--sklearn-color-fitted-level-0);\n",
       "}\n",
       "\n",
       "/* on hover */\n",
       "#sk-container-id-1 div.sk-estimator:hover {\n",
       "  /* unfitted */\n",
       "  background-color: var(--sklearn-color-unfitted-level-2);\n",
       "}\n",
       "\n",
       "#sk-container-id-1 div.sk-estimator.fitted:hover {\n",
       "  /* fitted */\n",
       "  background-color: var(--sklearn-color-fitted-level-2);\n",
       "}\n",
       "\n",
       "/* Specification for estimator info (e.g. \"i\" and \"?\") */\n",
       "\n",
       "/* Common style for \"i\" and \"?\" */\n",
       "\n",
       ".sk-estimator-doc-link,\n",
       "a:link.sk-estimator-doc-link,\n",
       "a:visited.sk-estimator-doc-link {\n",
       "  float: right;\n",
       "  font-size: smaller;\n",
       "  line-height: 1em;\n",
       "  font-family: monospace;\n",
       "  background-color: var(--sklearn-color-background);\n",
       "  border-radius: 1em;\n",
       "  height: 1em;\n",
       "  width: 1em;\n",
       "  text-decoration: none !important;\n",
       "  margin-left: 1ex;\n",
       "  /* unfitted */\n",
       "  border: var(--sklearn-color-unfitted-level-1) 1pt solid;\n",
       "  color: var(--sklearn-color-unfitted-level-1);\n",
       "}\n",
       "\n",
       ".sk-estimator-doc-link.fitted,\n",
       "a:link.sk-estimator-doc-link.fitted,\n",
       "a:visited.sk-estimator-doc-link.fitted {\n",
       "  /* fitted */\n",
       "  border: var(--sklearn-color-fitted-level-1) 1pt solid;\n",
       "  color: var(--sklearn-color-fitted-level-1);\n",
       "}\n",
       "\n",
       "/* On hover */\n",
       "div.sk-estimator:hover .sk-estimator-doc-link:hover,\n",
       ".sk-estimator-doc-link:hover,\n",
       "div.sk-label-container:hover .sk-estimator-doc-link:hover,\n",
       ".sk-estimator-doc-link:hover {\n",
       "  /* unfitted */\n",
       "  background-color: var(--sklearn-color-unfitted-level-3);\n",
       "  color: var(--sklearn-color-background);\n",
       "  text-decoration: none;\n",
       "}\n",
       "\n",
       "div.sk-estimator.fitted:hover .sk-estimator-doc-link.fitted:hover,\n",
       ".sk-estimator-doc-link.fitted:hover,\n",
       "div.sk-label-container:hover .sk-estimator-doc-link.fitted:hover,\n",
       ".sk-estimator-doc-link.fitted:hover {\n",
       "  /* fitted */\n",
       "  background-color: var(--sklearn-color-fitted-level-3);\n",
       "  color: var(--sklearn-color-background);\n",
       "  text-decoration: none;\n",
       "}\n",
       "\n",
       "/* Span, style for the box shown on hovering the info icon */\n",
       ".sk-estimator-doc-link span {\n",
       "  display: none;\n",
       "  z-index: 9999;\n",
       "  position: relative;\n",
       "  font-weight: normal;\n",
       "  right: .2ex;\n",
       "  padding: .5ex;\n",
       "  margin: .5ex;\n",
       "  width: min-content;\n",
       "  min-width: 20ex;\n",
       "  max-width: 50ex;\n",
       "  color: var(--sklearn-color-text);\n",
       "  box-shadow: 2pt 2pt 4pt #999;\n",
       "  /* unfitted */\n",
       "  background: var(--sklearn-color-unfitted-level-0);\n",
       "  border: .5pt solid var(--sklearn-color-unfitted-level-3);\n",
       "}\n",
       "\n",
       ".sk-estimator-doc-link.fitted span {\n",
       "  /* fitted */\n",
       "  background: var(--sklearn-color-fitted-level-0);\n",
       "  border: var(--sklearn-color-fitted-level-3);\n",
       "}\n",
       "\n",
       ".sk-estimator-doc-link:hover span {\n",
       "  display: block;\n",
       "}\n",
       "\n",
       "/* \"?\"-specific style due to the `<a>` HTML tag */\n",
       "\n",
       "#sk-container-id-1 a.estimator_doc_link {\n",
       "  float: right;\n",
       "  font-size: 1rem;\n",
       "  line-height: 1em;\n",
       "  font-family: monospace;\n",
       "  background-color: var(--sklearn-color-background);\n",
       "  border-radius: 1rem;\n",
       "  height: 1rem;\n",
       "  width: 1rem;\n",
       "  text-decoration: none;\n",
       "  /* unfitted */\n",
       "  color: var(--sklearn-color-unfitted-level-1);\n",
       "  border: var(--sklearn-color-unfitted-level-1) 1pt solid;\n",
       "}\n",
       "\n",
       "#sk-container-id-1 a.estimator_doc_link.fitted {\n",
       "  /* fitted */\n",
       "  border: var(--sklearn-color-fitted-level-1) 1pt solid;\n",
       "  color: var(--sklearn-color-fitted-level-1);\n",
       "}\n",
       "\n",
       "/* On hover */\n",
       "#sk-container-id-1 a.estimator_doc_link:hover {\n",
       "  /* unfitted */\n",
       "  background-color: var(--sklearn-color-unfitted-level-3);\n",
       "  color: var(--sklearn-color-background);\n",
       "  text-decoration: none;\n",
       "}\n",
       "\n",
       "#sk-container-id-1 a.estimator_doc_link.fitted:hover {\n",
       "  /* fitted */\n",
       "  background-color: var(--sklearn-color-fitted-level-3);\n",
       "}\n",
       "</style><div id=\"sk-container-id-1\" class=\"sk-top-container\"><div class=\"sk-text-repr-fallback\"><pre>LinearRegression()</pre><b>In a Jupyter environment, please rerun this cell to show the HTML representation or trust the notebook. <br />On GitHub, the HTML representation is unable to render, please try loading this page with nbviewer.org.</b></div><div class=\"sk-container\" hidden><div class=\"sk-item\"><div class=\"sk-estimator fitted sk-toggleable\"><input class=\"sk-toggleable__control sk-hidden--visually\" id=\"sk-estimator-id-1\" type=\"checkbox\" checked><label for=\"sk-estimator-id-1\" class=\"sk-toggleable__label fitted sk-toggleable__label-arrow fitted\">&nbsp;&nbsp;LinearRegression<a class=\"sk-estimator-doc-link fitted\" rel=\"noreferrer\" target=\"_blank\" href=\"https://scikit-learn.org/1.5/modules/generated/sklearn.linear_model.LinearRegression.html\">?<span>Documentation for LinearRegression</span></a><span class=\"sk-estimator-doc-link fitted\">i<span>Fitted</span></span></label><div class=\"sk-toggleable__content fitted\"><pre>LinearRegression()</pre></div> </div></div></div></div>"
      ],
      "text/plain": [
       "LinearRegression()"
      ]
     },
     "execution_count": 20,
     "metadata": {},
     "output_type": "execute_result"
    }
   ],
   "source": [
    "# Import and train the model\n",
    "from sklearn.linear_model import LinearRegression\n",
    "regressor = LinearRegression()\n",
    "regressor.fit(X_train, y_train)"
   ]
  },
  {
   "cell_type": "code",
   "execution_count": 21,
   "id": "4007e59d",
   "metadata": {},
   "outputs": [
    {
     "data": {
      "text/plain": [
       "array([[252.78868223],\n",
       "       [694.5792461 ],\n",
       "       [692.39520697],\n",
       "       [521.41645523],\n",
       "       [604.67378087],\n",
       "       [234.40372466],\n",
       "       [284.433829  ],\n",
       "       [529.83815495],\n",
       "       [587.82331878],\n",
       "       [469.917956  ],\n",
       "       [569.69539419],\n",
       "       [191.33854621],\n",
       "       [388.86869053],\n",
       "       [450.1029887 ],\n",
       "       [566.79401132],\n",
       "       [650.40837039],\n",
       "       [609.76668638],\n",
       "       [539.4799034 ],\n",
       "       [502.89143855],\n",
       "       [160.6423378 ],\n",
       "       [907.65554722],\n",
       "       [509.76805462],\n",
       "       [644.77653852],\n",
       "       [730.34393519],\n",
       "       [580.75084367],\n",
       "       [392.50751718],\n",
       "       [308.64348988],\n",
       "       [574.87082582],\n",
       "       [415.38628366],\n",
       "       [798.98502473],\n",
       "       [709.53433754],\n",
       "       [559.00748237],\n",
       "       [159.9820646 ],\n",
       "       [391.5360063 ],\n",
       "       [452.04350464],\n",
       "       [524.88777123],\n",
       "       [408.8188023 ],\n",
       "       [339.44869723],\n",
       "       [572.47981497],\n",
       "       [367.67813647],\n",
       "       [322.20520507],\n",
       "       [250.77574373],\n",
       "       [369.25504472],\n",
       "       [543.24219801],\n",
       "       [498.00116353],\n",
       "       [495.8064546 ],\n",
       "       [558.56392895],\n",
       "       [651.17447214],\n",
       "       [403.45792312],\n",
       "       [541.24002896],\n",
       "       [508.10151894],\n",
       "       [601.97878797],\n",
       "       [247.48997277],\n",
       "       [565.92216891],\n",
       "       [583.09421815],\n",
       "       [410.84755932],\n",
       "       [703.81738163],\n",
       "       [871.8722286 ],\n",
       "       [622.23498787],\n",
       "       [337.66966461],\n",
       "       [638.84188724],\n",
       "       [548.60070467],\n",
       "       [371.99541578],\n",
       "       [231.13760382],\n",
       "       [818.1984708 ],\n",
       "       [588.6926122 ],\n",
       "       [397.09495081],\n",
       "       [635.00742844],\n",
       "       [685.79799771],\n",
       "       [787.46548681],\n",
       "       [442.93476591],\n",
       "       [681.26265899],\n",
       "       [442.01013382],\n",
       "       [520.26441489],\n",
       "       [554.23884695],\n",
       "       [450.0294369 ],\n",
       "       [599.20034687],\n",
       "       [724.65149256],\n",
       "       [590.48139445],\n",
       "       [563.26532704],\n",
       "       [676.06603539],\n",
       "       [872.71270447],\n",
       "       [479.16248354],\n",
       "       [837.01028935],\n",
       "       [419.50919281],\n",
       "       [622.50411072],\n",
       "       [239.27282605],\n",
       "       [539.17220715],\n",
       "       [546.67203251],\n",
       "       [522.68609858],\n",
       "       [736.60297747],\n",
       "       [661.67318014],\n",
       "       [267.20737815],\n",
       "       [393.94797262],\n",
       "       [396.52991162],\n",
       "       [675.3565751 ],\n",
       "       [473.51207341],\n",
       "       [431.08555143],\n",
       "       [747.44970079],\n",
       "       [307.00983227],\n",
       "       [654.61099775],\n",
       "       [861.56328055],\n",
       "       [240.44739731],\n",
       "       [304.29778077],\n",
       "       [630.31499443],\n",
       "       [456.85003962],\n",
       "       [522.47990965],\n",
       "       [485.90655648],\n",
       "       [493.07860969],\n",
       "       [689.34193788],\n",
       "       [696.23035819],\n",
       "       [292.35556907],\n",
       "       [378.19048306],\n",
       "       [326.72989002],\n",
       "       [546.74903743],\n",
       "       [305.59115355],\n",
       "       [638.49192243],\n",
       "       [434.33160289],\n",
       "       [717.70185474],\n",
       "       [414.04564518],\n",
       "       [530.16757898],\n",
       "       [468.06863607],\n",
       "       [150.54683293],\n",
       "       [468.63758666],\n",
       "       [294.31265458],\n",
       "       [546.19961346],\n",
       "       [361.49184247],\n",
       "       [282.8612135 ],\n",
       "       [650.59923466],\n",
       "       [308.75207243],\n",
       "       [556.80874412],\n",
       "       [212.06369849],\n",
       "       [304.77049037],\n",
       "       [417.49176189],\n",
       "       [658.66273381],\n",
       "       [763.3957808 ],\n",
       "       [638.96920251],\n",
       "       [570.63423231],\n",
       "       [381.50890016],\n",
       "       [696.66142242],\n",
       "       [456.67872355],\n",
       "       [479.09420319],\n",
       "       [689.25433771],\n",
       "       [482.65952034],\n",
       "       [444.02671486],\n",
       "       [745.55570878],\n",
       "       [743.77130175],\n",
       "       [705.33948276],\n",
       "       [600.46571008],\n",
       "       [530.13002083],\n",
       "       [589.73600804],\n",
       "       [656.50056219],\n",
       "       [611.80762901],\n",
       "       [268.85314701],\n",
       "       [588.82781114],\n",
       "       [470.65721469],\n",
       "       [662.52043983],\n",
       "       [576.48217837],\n",
       "       [654.72615518],\n",
       "       [609.26530342],\n",
       "       [508.2885013 ],\n",
       "       [137.09990602],\n",
       "       [124.88385066],\n",
       "       [796.91078571],\n",
       "       [412.62203726],\n",
       "       [558.82141292],\n",
       "       [453.78033042],\n",
       "       [317.67090936],\n",
       "       [591.37543787],\n",
       "       [701.76331635],\n",
       "       [469.16443788],\n",
       "       [938.90782072],\n",
       "       [723.16806416],\n",
       "       [730.3397326 ],\n",
       "       [469.0742836 ],\n",
       "       [605.67195663],\n",
       "       [312.2167941 ],\n",
       "       [441.29814677],\n",
       "       [519.73283039],\n",
       "       [603.7394611 ],\n",
       "       [400.29580378],\n",
       "       [699.54282382],\n",
       "       [413.82169817],\n",
       "       [230.04529099],\n",
       "       [386.64043696],\n",
       "       [256.22867295],\n",
       "       [131.76005378],\n",
       "       [409.73984431],\n",
       "       [485.77119773],\n",
       "       [708.14039108],\n",
       "       [494.12967812],\n",
       "       [514.52424295],\n",
       "       [636.2274511 ],\n",
       "       [484.02665557],\n",
       "       [627.39849006],\n",
       "       [360.34657998],\n",
       "       [589.71930258],\n",
       "       [447.74581433],\n",
       "       [682.57015213],\n",
       "       [677.01479491],\n",
       "       [365.5928448 ],\n",
       "       [661.73849298],\n",
       "       [484.80890964],\n",
       "       [539.84412125],\n",
       "       [575.97153033],\n",
       "       [394.83254841],\n",
       "       [740.50118802],\n",
       "       [208.12921212],\n",
       "       [572.76551722],\n",
       "       [318.01889434],\n",
       "       [555.59519573],\n",
       "       [545.42813878],\n",
       "       [450.55862688],\n",
       "       [233.64744967],\n",
       "       [258.1040981 ],\n",
       "       [626.19357203],\n",
       "       [469.97993429],\n",
       "       [255.58497014],\n",
       "       [723.18899335],\n",
       "       [659.77548804],\n",
       "       [353.80379093],\n",
       "       [737.40364615],\n",
       "       [536.69615046],\n",
       "       [493.03380794],\n",
       "       [369.58137925],\n",
       "       [738.99389069],\n",
       "       [353.89750622],\n",
       "       [801.41988298],\n",
       "       [758.34479007],\n",
       "       [620.43183381],\n",
       "       [353.41340321],\n",
       "       [423.39270637],\n",
       "       [440.54926386],\n",
       "       [293.76873813],\n",
       "       [446.28548147],\n",
       "       [201.72467147],\n",
       "       [441.03904553],\n",
       "       [569.87845319],\n",
       "       [858.40780339],\n",
       "       [583.17976519],\n",
       "       [561.76254208],\n",
       "       [701.09485774],\n",
       "       [331.39060519],\n",
       "       [589.65812995],\n",
       "       [681.20196727],\n",
       "       [176.78279806],\n",
       "       [954.90314755],\n",
       "       [688.12454838],\n",
       "       [400.3407773 ],\n",
       "       [839.78736847],\n",
       "       [672.82348726],\n",
       "       [569.42884233],\n",
       "       [671.32241231],\n",
       "       [509.86480665],\n",
       "       [422.35514964],\n",
       "       [453.03950743],\n",
       "       [465.81643281],\n",
       "       [585.85198537],\n",
       "       [898.1618266 ],\n",
       "       [441.47133692],\n",
       "       [672.67450595],\n",
       "       [441.96464414],\n",
       "       [531.1038741 ],\n",
       "       [607.42141624],\n",
       "       [182.30681894],\n",
       "       [495.39298928],\n",
       "       [645.78455215],\n",
       "       [692.80422017],\n",
       "       [614.77734756],\n",
       "       [571.0551931 ],\n",
       "       [830.71822627],\n",
       "       [505.67206609],\n",
       "       [486.59705801],\n",
       "       [218.21379919],\n",
       "       [827.86699864],\n",
       "       [501.26543602],\n",
       "       [456.18934503],\n",
       "       [671.52261067],\n",
       "       [658.33245862],\n",
       "       [602.17529115],\n",
       "       [511.82012404],\n",
       "       [575.96135255],\n",
       "       [525.1093955 ],\n",
       "       [624.89452188],\n",
       "       [381.18795779],\n",
       "       [668.91626715],\n",
       "       [478.71542573],\n",
       "       [285.60996153],\n",
       "       [444.69248477],\n",
       "       [510.12880653],\n",
       "       [661.61622312],\n",
       "       [351.32218164],\n",
       "       [510.281993  ],\n",
       "       [655.2993731 ],\n",
       "       [262.79237516],\n",
       "       [463.08359249],\n",
       "       [498.31994831],\n",
       "       [476.09786184],\n",
       "       [665.2545945 ],\n",
       "       [642.38134302],\n",
       "       [712.305243  ],\n",
       "       [666.02372785],\n",
       "       [511.3104594 ],\n",
       "       [514.41556917],\n",
       "       [579.62569938],\n",
       "       [457.89013636],\n",
       "       [558.46634244],\n",
       "       [527.86053336],\n",
       "       [203.30769976],\n",
       "       [523.25286082],\n",
       "       [416.1772512 ],\n",
       "       [385.06682609],\n",
       "       [186.36722719],\n",
       "       [585.56624872],\n",
       "       [783.06704571],\n",
       "       [860.50095673],\n",
       "       [732.53837407],\n",
       "       [592.36421951],\n",
       "       [660.3873272 ],\n",
       "       [625.94419905],\n",
       "       [200.91343952],\n",
       "       [591.31007055],\n",
       "       [383.16387301],\n",
       "       [896.12648763],\n",
       "       [364.85506004],\n",
       "       [620.75721441],\n",
       "       [452.19912365],\n",
       "       [438.55890952],\n",
       "       [473.39669549],\n",
       "       [609.96379844],\n",
       "       [571.85319145],\n",
       "       [622.22462764],\n",
       "       [458.46735903],\n",
       "       [629.43352267],\n",
       "       [396.21738809],\n",
       "       [315.52864508],\n",
       "       [538.04577502],\n",
       "       [453.93638868],\n",
       "       [640.3184628 ],\n",
       "       [493.11831625],\n",
       "       [584.78966988],\n",
       "       [740.18448947],\n",
       "       [447.67536613],\n",
       "       [262.29902266],\n",
       "       [309.406851  ],\n",
       "       [803.84128018],\n",
       "       [651.95796813],\n",
       "       [576.82778528],\n",
       "       [592.47605136],\n",
       "       [357.46810785],\n",
       "       [564.52957225],\n",
       "       [506.78904833],\n",
       "       [233.65706563],\n",
       "       [436.13209688],\n",
       "       [561.50658695],\n",
       "       [483.99613826],\n",
       "       [606.080246  ],\n",
       "       [424.52704525],\n",
       "       [460.27225963],\n",
       "       [626.16615746],\n",
       "       [635.66971446],\n",
       "       [312.85340484],\n",
       "       [315.17307382],\n",
       "       [379.61974762],\n",
       "       [670.63795989],\n",
       "       [678.75141987],\n",
       "       [477.15421944],\n",
       "       [259.25913663],\n",
       "       [526.92154355],\n",
       "       [535.20587628],\n",
       "       [581.90240822],\n",
       "       [596.03883   ]])"
      ]
     },
     "execution_count": 21,
     "metadata": {},
     "output_type": "execute_result"
    }
   ],
   "source": [
    "# Make predictions on training set\n",
    "y_predict = regressor.predict(X_train)\n",
    "y_predict"
   ]
  },
  {
   "cell_type": "code",
   "execution_count": 22,
   "id": "fa3d6f45",
   "metadata": {},
   "outputs": [
    {
     "data": {
      "text/plain": [
       "Text(0.5, 1.0, 'Revenue generated vs temperature')"
      ]
     },
     "execution_count": 22,
     "metadata": {},
     "output_type": "execute_result"
    },
    {
     "data": {
      "image/png": "[encoded data removed]",
      "text/plain": [
       "<Figure size 640x480 with 1 Axes>"
      ]
     },
     "metadata": {},
     "output_type": "display_data"
    }
   ],
   "source": [
    "# Actual vs predicted data on training set\n",
    "plt.scatter(X_train, y_train, color=\"gray\")\n",
    "plt.plot(X_train, y_predict, color='red')\n",
    "plt.ylabel('Revenue in dollars')\n",
    "plt.xlabel('Temperature')\n",
    "plt.title('Revenue generated vs temperature')"
   ]
  },
  {
   "cell_type": "code",
   "execution_count": 23,
   "id": "f06cd0b1",
   "metadata": {},
   "outputs": [
    {
     "name": "stdout",
     "output_type": "stream",
     "text": [
      "MSE: 643.3072172647247\n",
      "R² SCORE: 0.9769250306791161\n"
     ]
    }
   ],
   "source": [
    "# Evaluate model on training set\n",
    "from sklearn.metrics import mean_squared_error, r2_score\n",
    "print(f'MSE: {mean_squared_error(y_train, y_predict)}\\nR² SCORE: {r2_score(y_train, y_predict)}')"
   ]
  },
  {
   "cell_type": "code",
   "execution_count": 24,
   "id": "33ff32b9",
   "metadata": {},
   "outputs": [
    {
     "data": {
      "text/plain": [
       "array([[467.92451195],\n",
       "       [631.44897823],\n",
       "       [198.43760342],\n",
       "       [604.76145409],\n",
       "       [727.93195498],\n",
       "       [353.22304079],\n",
       "       [524.34935953],\n",
       "       [449.95758998],\n",
       "       [420.83191192],\n",
       "       [171.75270534],\n",
       "       [238.69384862],\n",
       "       [622.66429637],\n",
       "       [265.4697762 ],\n",
       "       [443.50048812],\n",
       "       [474.22813465],\n",
       "       [448.493447  ],\n",
       "       [550.5981883 ],\n",
       "       [791.36777731],\n",
       "       [654.1201265 ],\n",
       "       [519.86681989],\n",
       "       [681.50818659],\n",
       "       [291.32486026],\n",
       "       [285.38339247],\n",
       "       [364.19556507],\n",
       "       [530.56070006],\n",
       "       [807.78041826],\n",
       "       [388.25706566],\n",
       "       [911.29222162],\n",
       "       [756.97536095],\n",
       "       [368.08003383],\n",
       "       [312.41998775],\n",
       "       [838.30194827],\n",
       "       [795.05859867],\n",
       "       [474.95028345],\n",
       "       [452.05010858],\n",
       "       [361.32677185],\n",
       "       [627.45631981],\n",
       "       [756.6500534 ],\n",
       "       [891.33617548],\n",
       "       [423.85344102],\n",
       "       [245.47886635],\n",
       "       [330.77510994],\n",
       "       [526.17882448],\n",
       "       [749.33103952],\n",
       "       [394.88445874],\n",
       "       [521.921011  ],\n",
       "       [713.77849362],\n",
       "       [600.68371523],\n",
       "       [234.47529816],\n",
       "       [663.28592287],\n",
       "       [796.36907321],\n",
       "       [802.02988758],\n",
       "       [411.72151125],\n",
       "       [310.48502869],\n",
       "       [547.0435636 ],\n",
       "       [332.11074318],\n",
       "       [351.82756336],\n",
       "       [942.28034547],\n",
       "       [590.27637394],\n",
       "       [620.72801571],\n",
       "       [534.5950359 ],\n",
       "       [434.55089609],\n",
       "       [640.10365783],\n",
       "       [670.11089653],\n",
       "       [580.45471859],\n",
       "       [684.9576088 ],\n",
       "       [596.19922566],\n",
       "       [546.78506782],\n",
       "       [183.19077576],\n",
       "       [423.81791398],\n",
       "       [451.49934378],\n",
       "       [431.00020949],\n",
       "       [718.95371268],\n",
       "       [890.76458874],\n",
       "       [170.98098261],\n",
       "       [643.32644454],\n",
       "       [634.46658313],\n",
       "       [296.43702128],\n",
       "       [510.45402541],\n",
       "       [666.92106865],\n",
       "       [476.64585867],\n",
       "       [804.13162171],\n",
       "       [502.13018844],\n",
       "       [348.03463948],\n",
       "       [744.13616395],\n",
       "       [447.7143745 ],\n",
       "       [312.59481014],\n",
       "       [458.23478038],\n",
       "       [519.14293053],\n",
       "       [664.02518967],\n",
       "       [767.51461961],\n",
       "       [621.79664844],\n",
       "       [630.1117901 ],\n",
       "       [606.15925747],\n",
       "       [774.29705678],\n",
       "       [762.60788567],\n",
       "       [613.39218186],\n",
       "       [570.48455409],\n",
       "       [461.77020556],\n",
       "       [579.85494924],\n",
       "       [520.6557467 ],\n",
       "       [550.30090698],\n",
       "       [571.44675651],\n",
       "       [564.47103043],\n",
       "       [575.61264033],\n",
       "       [634.73548614],\n",
       "       [454.9418324 ],\n",
       "       [493.84540771],\n",
       "       [663.06378713],\n",
       "       [371.64032479],\n",
       "       [283.26172324],\n",
       "       [494.6261729 ],\n",
       "       [697.27987193],\n",
       "       [269.78684379],\n",
       "       [721.27740351],\n",
       "       [307.44279665],\n",
       "       [504.31288931],\n",
       "       [516.81781534],\n",
       "       [465.71423779],\n",
       "       [862.39364101],\n",
       "       [428.39757588],\n",
       "       [479.53991291],\n",
       "       [422.05311389],\n",
       "       [322.22886484]])"
      ]
     },
     "execution_count": 24,
     "metadata": {},
     "output_type": "execute_result"
    }
   ],
   "source": [
    "# Make predictions on test set\n",
    "y_predictTest = regressor.predict(X_test)\n",
    "y_predictTest"
   ]
  },
  {
   "cell_type": "code",
   "execution_count": 25,
   "id": "fa802cf2",
   "metadata": {},
   "outputs": [
    {
     "data": {
      "text/plain": [
       "Text(0.5, 1.0, 'Revenue generated vs temperature')"
      ]
     },
     "execution_count": 25,
     "metadata": {},
     "output_type": "execute_result"
    },
    {
     "data": {
      "image/png": "[encoded data removed]",
      "text/plain": [
       "<Figure size 640x480 with 1 Axes>"
      ]
     },
     "metadata": {},
     "output_type": "display_data"
    }
   ],
   "source": [
    "# Actual vs predicted data on test set\n",
    "plt.scatter(X_test, y_test, color=\"gray\")\n",
    "plt.plot(X_test, y_predictTest, color='red')\n",
    "plt.ylabel('Revenue in dollars')\n",
    "plt.xlabel('Temperature')\n",
    "plt.title('Revenue generated vs temperature')"
   ]
  },
  {
   "cell_type": "code",
   "execution_count": 26,
   "id": "a6978873",
   "metadata": {},
   "outputs": [
    {
     "name": "stdout",
     "output_type": "stream",
     "text": [
      "MSE Test: 568.5882016760064\n",
      "R² SCORE: 0.9824408149259038\n"
     ]
    }
   ],
   "source": [
    "# Evaluate model on test set\n",
    "print(f'MSE Test: {mean_squared_error(y_test, y_predictTest)}\\nR² SCORE: {r2_score(y_test, y_predictTest)}')"
   ]
  }
 ],
 "metadata": {
  "kernelspec": {
   "display_name": "machineLearning",
   "language": "python",
   "name": "python3"
  },
  "language_info": {
   "codemirror_mode": {
    "name": "ipython",
    "version": 3
   },
   "file_extension": ".py",
   "mimetype": "text/x-python",
   "name": "python",
   "nbconvert_exporter": "python",
   "pygments_lexer": "ipython3",
   "version": "3.10.0"
  }
 },
 "nbformat": 4,
 "nbformat_minor": 5
}
